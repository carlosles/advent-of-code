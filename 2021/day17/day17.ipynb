{
 "cells": [
  {
   "cell_type": "markdown",
   "metadata": {},
   "source": [
    "# Day 17: Trick Shot"
   ]
  },
  {
   "cell_type": "code",
   "execution_count": 1,
   "metadata": {},
   "outputs": [],
   "source": [
    "from pathlib import Path\n",
    "import re\n",
    "from dataclasses import dataclass\n",
    "from typing import Iterable\n",
    "from functools import lru_cache\n",
    "from itertools import count\n",
    "from more_itertools import pairwise, first, ilen\n",
    "\n",
    "from aoc2021.util import read_as_str, natsum"
   ]
  },
  {
   "cell_type": "markdown",
   "metadata": {},
   "source": [
    "## Puzzle input data"
   ]
  },
  {
   "cell_type": "code",
   "execution_count": 2,
   "metadata": {},
   "outputs": [
    {
     "data": {
      "text/plain": [
       "(60, 94, -171, -136)"
      ]
     },
     "execution_count": 2,
     "metadata": {},
     "output_type": "execute_result"
    }
   ],
   "source": [
    "parse_input = lambda x: tuple(map(int, re.findall('[\\-0-9]+', x.rstrip())))\n",
    "# Test data.\n",
    "tdata = parse_input('target area: x=20..30, y=-10..-5')\n",
    "\n",
    "# Input data.\n",
    "data = parse_input(read_as_str(Path('./day17-input.txt')))\n",
    "data"
   ]
  },
  {
   "cell_type": "markdown",
   "metadata": {},
   "source": [
    "## Puzzle answers\n",
    "### Part 1"
   ]
  },
  {
   "cell_type": "code",
   "execution_count": 3,
   "metadata": {},
   "outputs": [],
   "source": [
    "@dataclass(frozen=True, eq=True)\n",
    "class Pos:\n",
    "    x: int  # horizontal (+ve forward)\n",
    "    y: int  # vertical (+ve upward)\n",
    "\n",
    "    def __add__(self, p):\n",
    "        return Pos(self.x + p.x, self.y + p.y)\n",
    "\n",
    "\n",
    "@dataclass(frozen=True, eq=True)\n",
    "class Vel(Pos):\n",
    "\n",
    "    def __add__(self, v):\n",
    "        return Vel(self.x + v.x, self.y + v.y)\n",
    "\n",
    "\n",
    "@dataclass(frozen=True, eq=True)\n",
    "class Trajectory:\n",
    "    v0: Vel\n",
    "    p0: Pos = Pos(0,0)\n",
    "    \n",
    "    @property\n",
    "    @lru_cache\n",
    "    def ymax(self):\n",
    "        return first(self.pos(s1).y for s1,s2 in pairwise(count()) if self.pos(s1).y >= self.pos(s2).y)\n",
    "\n",
    "    @lru_cache\n",
    "    def vel(self, step: int) -> Vel:\n",
    "        if step == 0:\n",
    "            return self.v0\n",
    "        v = self.vel(step-1)\n",
    "        return v + Vel(-v.x//abs(v.x) if v.x != 0 else 0, -1)\n",
    "\n",
    "    @lru_cache\n",
    "    def pos(self, step: int) -> Pos:\n",
    "        if step == 0:\n",
    "            return self.p0\n",
    "        return self.pos(step-1) + self.vel(step-1)\n",
    "\n",
    "\n",
    "@dataclass(frozen=True, eq=True)\n",
    "class Target:\n",
    "    xmin: int\n",
    "    xmax: int\n",
    "    ymin: int\n",
    "    ymax: int\n",
    "\n",
    "\n",
    "def in_target(pos: Pos, tgt: Target) -> bool:\n",
    "    return tgt.xmin <= pos.x <= tgt.xmax and tgt.ymin <= pos.y <= tgt.ymax\n",
    "\n",
    "\n",
    "def past_target(pos: Pos, tgt: Target) -> bool:\n",
    "    return pos.x > tgt.xmax or pos.y < tgt.ymin\n",
    "\n",
    "\n",
    "def to_target(tr: Trajectory, tgt: Target) -> bool:\n",
    "    ps = (tr.pos(step) for step in count())\n",
    "    while True:\n",
    "        p = next(ps)\n",
    "        if in_target(p, tgt):\n",
    "            return True\n",
    "        if past_target(p, tgt):\n",
    "            return False\n",
    "\n",
    "\n",
    "def target_trajectories(tgt: Target, p0: Pos = Pos(0,0)) -> Iterable[Trajectory]:\n",
    "    for vx in count(start=first(n for n in count() if natsum(n) >= tgt.xmin)):\n",
    "        for vy in count(start=tgt.ymin):\n",
    "            tr = Trajectory(Vel(vx, vy), p0=p0)\n",
    "            if to_target(tr, tgt):\n",
    "                yield tr\n",
    "            if vy > 300:\n",
    "                break\n",
    "        if vx > tgt.xmax:\n",
    "            break\n",
    "\n",
    "\n",
    "def max_height(tgt: Target) -> Vel:\n",
    "    return max(tr.ymax for tr in target_trajectories(tgt))\n",
    "\n",
    "\n",
    "assert Pos(1,1) + Pos(-1,2) == Pos(0,3)\n",
    "assert Pos(1,1) + Vel(-1,2) == Pos(0,3)\n",
    "assert [Trajectory(Vel(2,3)).pos(s) for s in range(5)] == [Pos(0,0), Pos(2,3), Pos(3,5), Pos(3,6), Pos(3,6)]\n",
    "assert [Trajectory(Vel(2,3)).vel(s) for s in range(5)] == [Vel(2,3), Vel(1,2), Vel(0,1), Vel(0,0), Vel(0,-1)]\n",
    "assert [Trajectory(Vel(7,2)).pos(s) for s in range(5)] == [Pos(0,0), Pos(7,2), Pos(13,3), Pos(18,3), Pos(22,2)]\n",
    "assert [Trajectory(Vel(7,2)).vel(s) for s in range(5)] == [Vel(7,2), Vel(6,1), Vel(5,0), Vel(4,-1), Vel(3,-2)]\n",
    "assert Trajectory(Vel(2,3)).ymax == 6\n",
    "assert in_target(Pos(20,-7), Target(*[20,30,-10,-5])) == True\n",
    "assert in_target(Pos(20,-11), Target(*[20,30,-10,-5])) == False\n",
    "assert all(to_target(Trajectory(Vel(*v)), Target(*tdata)) for v in [(7,2),(6,3),(9,0)]) == True\n",
    "assert to_target(Trajectory(Vel(17,-4)), Target(*tdata)) == False\n",
    "assert max_height(Target(*tdata)) == 45"
   ]
  },
  {
   "cell_type": "code",
   "execution_count": 4,
   "metadata": {},
   "outputs": [
    {
     "name": "stdout",
     "output_type": "stream",
     "text": [
      "The highest y position the probe reaches on its trajectory: 14535\n"
     ]
    }
   ],
   "source": [
    "n = max_height(Target(*data))\n",
    "print(f'The highest y position the probe reaches on its trajectory: {n}')"
   ]
  },
  {
   "cell_type": "markdown",
   "metadata": {},
   "source": [
    "### Part 2"
   ]
  },
  {
   "cell_type": "code",
   "execution_count": 5,
   "metadata": {},
   "outputs": [],
   "source": [
    "assert ilen(target_trajectories(Target(*tdata))) == 112"
   ]
  },
  {
   "cell_type": "code",
   "execution_count": 6,
   "metadata": {},
   "outputs": [
    {
     "name": "stdout",
     "output_type": "stream",
     "text": [
      "Number of distinct initial velocity values that lead the probe to the target area: 2270\n"
     ]
    }
   ],
   "source": [
    "n = ilen(target_trajectories(Target(*data)))\n",
    "print(f'Number of distinct initial velocity values that lead the probe to the target area: {n}')"
   ]
  }
 ],
 "metadata": {
  "interpreter": {
   "hash": "34bf0df1641f6a327048e3b88c696c92118af801ec77f897a0ad57ee3c48bebd"
  },
  "kernelspec": {
   "display_name": "Python 3.10.0 64-bit ('venv_py310': venv)",
   "language": "python",
   "name": "python3"
  },
  "language_info": {
   "codemirror_mode": {
    "name": "ipython",
    "version": 3
   },
   "file_extension": ".py",
   "mimetype": "text/x-python",
   "name": "python",
   "nbconvert_exporter": "python",
   "pygments_lexer": "ipython3",
   "version": "3.10.0"
  },
  "orig_nbformat": 4
 },
 "nbformat": 4,
 "nbformat_minor": 2
}
