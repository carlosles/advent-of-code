{
 "cells": [
  {
   "cell_type": "markdown",
   "metadata": {},
   "source": [
    "# Day 22: Reactor Reboot"
   ]
  },
  {
   "cell_type": "code",
   "execution_count": 17,
   "metadata": {},
   "outputs": [],
   "source": [
    "from __future__ import annotations\n",
    "from pathlib import Path\n",
    "import re\n",
    "from typing import Iterable\n",
    "from enum import Enum, auto\n",
    "from dataclasses import dataclass\n",
    "from functools import reduce\n",
    "from itertools import product\n",
    "from more_itertools import collapse\n",
    "\n",
    "from aoc2021.util import read_as_list"
   ]
  },
  {
   "cell_type": "markdown",
   "metadata": {},
   "source": [
    "## Puzzle input data"
   ]
  },
  {
   "cell_type": "code",
   "execution_count": null,
   "metadata": {},
   "outputs": [],
   "source": [
    "def parse_line(line: str) -> tuple[str,list[tuple[str]]]:\n",
    "    action, coords = line.rstrip().split()\n",
    "    coords = [tuple(map(int, re.findall('[\\-\\d]+', c))) for c in coords.split(',')]\n",
    "    return action, coords\n",
    "\n",
    "# Test data.\n",
    "tdata0 = list(map(parse_line, [\n",
    "    'on x=10..12,y=10..12,z=10..12',\n",
    "    'on x=11..13,y=11..13,z=11..13',\n",
    "    'off x=9..11,y=9..11,z=9..11',\n",
    "    'on x=10..10,y=10..10,z=10..10',\n",
    "]))\n",
    "tdata1 = read_as_list(Path('./day22-test-input1.txt'), func=parse_line)\n",
    "tdata2 = read_as_list(Path('./day22-test-input2.txt'), func=parse_line)\n",
    "\n",
    "# Input data.\n",
    "data = read_as_list(Path('./day22-input.txt'), func=parse_line)\n",
    "data[:5]"
   ]
  },
  {
   "cell_type": "markdown",
   "metadata": {},
   "source": [
    "## Puzzle answers\n",
    "### Part 1"
   ]
  },
  {
   "cell_type": "code",
   "execution_count": null,
   "metadata": {},
   "outputs": [],
   "source": []
  },
  {
   "cell_type": "code",
   "execution_count": 9,
   "metadata": {},
   "outputs": [],
   "source": [
    "Input = list[tuple[str,list[tuple[str]]]]\n",
    "\n",
    "\n",
    "class State(Enum):\n",
    "    ON = auto()\n",
    "    OFF = auto()\n",
    "\n",
    "\n",
    "@dataclass(frozen=True)\n",
    "class Pos:\n",
    "    x: int\n",
    "    y: int\n",
    "    z: int\n",
    "\n",
    "\n",
    "@dataclass(frozen=True)\n",
    "class Cube:\n",
    "    pos: Pos\n",
    "    state: State\n",
    "\n",
    "\n",
    "@dataclass(frozen=True)\n",
    "class Space:\n",
    "    xlim: tuple[int]\n",
    "    ylim: tuple[int]\n",
    "    zlim: tuple[int]\n",
    "\n",
    "    @property\n",
    "    def lims(self) -> Iterable[int]:\n",
    "        return collapse((self.xlim, self.ylim, self.zlim))\n",
    "\n",
    "\n",
    "@dataclass(frozen=True)\n",
    "class Instr:\n",
    "    action: State\n",
    "    space: Space\n",
    "\n",
    "\n",
    "def parse_instr(instr: tuple[str,list[tuple[str]]]) -> Instr:\n",
    "    action = State(State.ON if instr[0] == 'on' else State.OFF)\n",
    "    space = Space(*instr[1])\n",
    "    return Instr(action, space)\n",
    "\n",
    "\n",
    "def execute_instr(instr: Instr, cubes: set[Cube] = set()) -> set[Cube]:\n",
    "    sp = instr.space\n",
    "    new_cubes = set(Cube(Pos(*coords), State.ON) for coords in product(\n",
    "        range(sp.xlim[0], sp.xlim[1]+1),\n",
    "        range(sp.ylim[0], sp.ylim[1]+1),\n",
    "        range(sp.zlim[0], sp.zlim[1]+1)\n",
    "    ))\n",
    "    return cubes | new_cubes if instr.action == State.ON else cubes - new_cubes\n",
    "\n",
    "\n",
    "def execute_reboot(instrs: Input) -> Iterable[set[Cube]]:\n",
    "    fn = lambda instr: all(abs(lim) <= 50 for lim in instr.space.lims)\n",
    "    return reduce(lambda c,i: execute_instr(i,c), filter(fn, map(parse_instr, instrs)), set())\n",
    "\n",
    "\n",
    "def solution(data: Input) -> int:\n",
    "    cubes = execute_reboot(data)\n",
    "    return sum(1 for c in cubes if c.state == State.ON)\n",
    "\n",
    "\n",
    "assert parse_instr(('on', [(-49,-5),(-12,39),(-38,10)])) == Instr(State.ON, Space(xlim=(-49,-5), ylim=(-12,39), zlim=(-38,10)))\n",
    "assert parse_instr(('off', [(18,30),(-20,-8),(-3,13)])) == Instr(State.OFF, Space(xlim=(18,30), ylim=(-20,-8), zlim=(-3,13)))\n",
    "assert execute_instr(parse_instr(('on', [(-1,0),(2,2),(3,3)]))) == set([Cube(Pos(-1,2,3), State.ON), Cube(Pos(0,2,3), State.ON)])\n",
    "assert execute_reboot([('on', [(-1,0),(2,2),(3,3)])]) == set([Cube(Pos(-1,2,3), State.ON), Cube(Pos(0,2,3), State.ON)])\n",
    "assert solution(tdata0) == 39\n",
    "assert solution(tdata1) == 590784"
   ]
  },
  {
   "cell_type": "code",
   "execution_count": 10,
   "metadata": {},
   "outputs": [
    {
     "name": "stdout",
     "output_type": "stream",
     "text": [
      "Number of cubes after reboot considering only the region x=-50..50,y=-50..50,z=-50..50: 564654\n"
     ]
    }
   ],
   "source": [
    "n = solution(data)\n",
    "print(f'Number of cubes after reboot considering only the region x=-50..50,y=-50..50,z=-50..50: {n}')"
   ]
  },
  {
   "cell_type": "markdown",
   "metadata": {},
   "source": [
    "### Part 2"
   ]
  },
  {
   "cell_type": "code",
   "execution_count": 34,
   "metadata": {},
   "outputs": [],
   "source": [
    "from more_itertools import minmax"
   ]
  },
  {
   "cell_type": "code",
   "execution_count": null,
   "metadata": {},
   "outputs": [],
   "source": [
    "@dataclass(frozen=True)\n",
    "class Cuboid:\n",
    "    xlim: tuple[int]\n",
    "    ylim: tuple[int]\n",
    "    zlim: tuple[int]\n",
    "\n",
    "    @property\n",
    "    def lims(self) -> Iterable[int]:\n",
    "        return collapse((self.xlim, self.ylim, self.zlim))\n",
    "\n",
    "    def __or__(self, other: Cuboid) -> Cuboid:\n",
    "        # union\n",
    "        xlim = minmax(self.xlim + other.xlim)\n",
    "        ylim = minmax(self.ylim + other.ylim)\n",
    "        zlim = minmax(self.zlim + other.zlim)\n",
    "        return Cuboid(xlim, ylim, zlim)\n",
    "\n",
    "    def __sub__(self, other: Cuboid) -> Cuboid:\n",
    "        # difference\n",
    "        xlim = (other.xlim[1] if self.xlim[0] < other.xlim[1] < self.xlim[1], )\n",
    "        return Cuboid(xlim, ylim, zlim)\n",
    "\n",
    "\n",
    "def range_diff(a: tuple[int], b: tuple[int]) -> tuple[int]:\n",
    "    alo, aup = a\n",
    "    blo, bup = b\n",
    "    lower = alo \n",
    "    return\n",
    "\n",
    "\n",
    "assert solution(tdata2) == 2758514936282235"
   ]
  },
  {
   "cell_type": "code",
   "execution_count": null,
   "metadata": {},
   "outputs": [],
   "source": [
    "n = solution(data)\n",
    "print(f'Number of cubes after reboot considering all cubes: {n}')"
   ]
  }
 ],
 "metadata": {
  "interpreter": {
   "hash": "34bf0df1641f6a327048e3b88c696c92118af801ec77f897a0ad57ee3c48bebd"
  },
  "kernelspec": {
   "display_name": "Python 3.10.0 64-bit ('venv_py310': venv)",
   "language": "python",
   "name": "python3"
  },
  "language_info": {
   "codemirror_mode": {
    "name": "ipython",
    "version": 3
   },
   "file_extension": ".py",
   "mimetype": "text/x-python",
   "name": "python",
   "nbconvert_exporter": "python",
   "pygments_lexer": "ipython3",
   "version": "3.10.0"
  },
  "orig_nbformat": 4
 },
 "nbformat": 4,
 "nbformat_minor": 2
}
