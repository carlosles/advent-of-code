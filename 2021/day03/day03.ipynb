{
 "cells": [
  {
   "cell_type": "markdown",
   "metadata": {},
   "source": [
    "# Day 3: Binary Diagnostic"
   ]
  },
  {
   "cell_type": "code",
   "execution_count": 223,
   "metadata": {},
   "outputs": [],
   "source": [
    "from pathlib import Path\n",
    "from typing import Callable\n",
    "\n",
    "from aoc2021.util import read_as_list"
   ]
  },
  {
   "cell_type": "markdown",
   "metadata": {},
   "source": [
    "## Puzzle input data"
   ]
  },
  {
   "cell_type": "code",
   "execution_count": 224,
   "metadata": {},
   "outputs": [
    {
     "data": {
      "text/plain": [
       "['111011110101',\n",
       " '011000111010',\n",
       " '100000010010',\n",
       " '000111100110',\n",
       " '110011111011']"
      ]
     },
     "execution_count": 224,
     "metadata": {},
     "output_type": "execute_result"
    }
   ],
   "source": [
    "# Test data.\n",
    "tdata = [\n",
    "    '00100',\n",
    "    '11110',\n",
    "    '10110',\n",
    "    '10111',\n",
    "    '10101',\n",
    "    '01111',\n",
    "    '00111',\n",
    "    '11100',\n",
    "    '10000',\n",
    "    '11001',\n",
    "    '00010',\n",
    "    '01010',\n",
    "]\n",
    "\n",
    "# Input data.\n",
    "data = read_as_list(Path('./day03.txt'), func=str.rstrip)\n",
    "data[:5]"
   ]
  },
  {
   "cell_type": "markdown",
   "metadata": {},
   "source": [
    "## Puzzle answers\n",
    "### Part 1"
   ]
  },
  {
   "cell_type": "code",
   "execution_count": 225,
   "metadata": {},
   "outputs": [],
   "source": [
    "def bin2dec(bits: str) -> int:\n",
    "    return int(bits, base=2)\n",
    "\n",
    "\n",
    "def most_common(bs: tuple[str]) -> str:\n",
    "    n = len(bs) / 2\n",
    "    return '1' if tuple.count(bs, '1') >= n else '0'\n",
    "\n",
    "\n",
    "def twos_complement(n: int, digits: int) -> int:\n",
    "    return n ^ ((1 << digits) - 1)\n",
    "\n",
    "\n",
    "def gamma_rate(data: list[str]) -> int:\n",
    "    return bin2dec(''.join(map(most_common, zip(*data))))\n",
    "\n",
    "\n",
    "def epsilon_rate(data: list[str]) -> int:\n",
    "    gamma = gamma_rate(data)\n",
    "    digits = len(data[0])\n",
    "    return twos_complement(gamma, digits)\n",
    "\n",
    "\n",
    "assert most_common(('1','0','1')) == '1' and most_common(('0','1','0')) == '0' and most_common(('1','0')) == '1'\n",
    "assert twos_complement(bin2dec('10110'), 5) == bin2dec('01001')\n",
    "assert gamma_rate(tdata) == 22\n",
    "assert epsilon_rate(tdata) == 9"
   ]
  },
  {
   "cell_type": "code",
   "execution_count": 226,
   "metadata": {},
   "outputs": [
    {
     "name": "stdout",
     "output_type": "stream",
     "text": [
      "The power consumption of the submarine: 693486\n"
     ]
    }
   ],
   "source": [
    "power = gamma_rate(data) * epsilon_rate(data)\n",
    "print(f'The power consumption of the submarine: {power}')"
   ]
  },
  {
   "cell_type": "markdown",
   "metadata": {},
   "source": [
    "### Part 2"
   ]
  },
  {
   "cell_type": "code",
   "execution_count": 227,
   "metadata": {},
   "outputs": [],
   "source": [
    "def least_common(bs: tuple[str]) -> str:\n",
    "    return '0' if most_common(bs) == '1' else '1'\n",
    "\n",
    "\n",
    "def get_rating(data, predicate: Callable[[tuple[str]],bool]) -> int:\n",
    "    idx = 0\n",
    "    while len(data) > 1:\n",
    "        bits = list(zip(*data))[idx]\n",
    "        func = lambda x: x[idx] == predicate(bits)\n",
    "        data = list(filter(func, data))\n",
    "        idx += 1\n",
    "    return bin2dec(*data)\n",
    "\n",
    "\n",
    "def oxygen_rating(data) -> int:\n",
    "    return get_rating(data, most_common)\n",
    "\n",
    "\n",
    "def co2_rating(data) -> int:\n",
    "    return get_rating(data, least_common)\n",
    "\n",
    "\n",
    "assert least_common(('1','0','1')) == '0' and least_common(('0','1','0')) == '1' and least_common(('0','1')) == '0'\n",
    "assert oxygen_rating(tdata) == 23\n",
    "assert co2_rating(tdata) == 10 "
   ]
  },
  {
   "cell_type": "code",
   "execution_count": 228,
   "metadata": {},
   "outputs": [
    {
     "name": "stdout",
     "output_type": "stream",
     "text": [
      "The life support rating of the submarine: 3379326\n"
     ]
    }
   ],
   "source": [
    "life_support = oxygen_rating(data) * co2_rating(data)\n",
    "print(f'The life support rating of the submarine: {life_support}')``"
   ]
  }
 ],
 "metadata": {
  "interpreter": {
   "hash": "34bf0df1641f6a327048e3b88c696c92118af801ec77f897a0ad57ee3c48bebd"
  },
  "kernelspec": {
   "display_name": "Python 3.10.0 64-bit ('venv_py310': venv)",
   "language": "python",
   "name": "python3"
  },
  "language_info": {
   "codemirror_mode": {
    "name": "ipython",
    "version": 3
   },
   "file_extension": ".py",
   "mimetype": "text/x-python",
   "name": "python",
   "nbconvert_exporter": "python",
   "pygments_lexer": "ipython3",
   "version": "3.10.0"
  },
  "orig_nbformat": 4
 },
 "nbformat": 4,
 "nbformat_minor": 2
}
