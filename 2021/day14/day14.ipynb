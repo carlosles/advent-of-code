{
 "cells": [
  {
   "cell_type": "markdown",
   "metadata": {},
   "source": [
    "# Day 14: Extended Polymerization"
   ]
  },
  {
   "cell_type": "code",
   "execution_count": 1,
   "metadata": {},
   "outputs": [],
   "source": [
    "from pathlib import Path\n",
    "from collections import Counter, defaultdict\n",
    "from more_itertools import take, pairwise, iterate, nth\n",
    "\n",
    "from aoc2021.util import read_as_list"
   ]
  },
  {
   "cell_type": "markdown",
   "metadata": {},
   "source": [
    "## Puzzle input data"
   ]
  },
  {
   "cell_type": "code",
   "execution_count": 2,
   "metadata": {},
   "outputs": [
    {
     "data": {
      "text/plain": [
       "('SCSCSKKVVBKVFKSCCSOV',\n",
       " {'CP': 'C', 'SF': 'S', 'BH': 'F', 'SS': 'N', 'KB': 'N'})"
      ]
     },
     "execution_count": 2,
     "metadata": {},
     "output_type": "execute_result"
    }
   ],
   "source": [
    "def split_input(lines: list[str]) -> tuple:\n",
    "    template = lines[0]\n",
    "    rules = dict(tuple(line.split(' -> ')) for line in lines[2:])\n",
    "    return template, rules\n",
    "\n",
    "# Test data.\n",
    "tdata = split_input([\n",
    "    'NNCB',\n",
    "    '',\n",
    "    'CH -> B',  \n",
    "    'HH -> N',  \n",
    "    'CB -> H',  \n",
    "    'NH -> C',  \n",
    "    'HB -> C',  \n",
    "    'HC -> B',  \n",
    "    'HN -> C',  \n",
    "    'NN -> C',  \n",
    "    'BH -> H',  \n",
    "    'NC -> B',  \n",
    "    'NB -> B',  \n",
    "    'BN -> B',  \n",
    "    'BB -> N',  \n",
    "    'BC -> B',  \n",
    "    'CC -> N',  \n",
    "    'CN -> C',\n",
    "])\n",
    "\n",
    "# Input data.\n",
    "data = split_input(read_as_list(Path('./day14-input.txt'), func=str.rstrip))\n",
    "data[0], dict(take(5, data[1].items()))"
   ]
  },
  {
   "cell_type": "markdown",
   "metadata": {},
   "source": [
    "## Puzzle answers\n",
    "### Part 1"
   ]
  },
  {
   "cell_type": "code",
   "execution_count": 3,
   "metadata": {},
   "outputs": [],
   "source": [
    "Rules = dict[str,str]\n",
    "Input = tuple[str,Rules]\n",
    "\n",
    "\n",
    "def step(formula: str, rules: Rules) -> str:\n",
    "    return ''.join(a + rules.get(a+b, '') for a,b in pairwise(formula)) + formula[-1]\n",
    "\n",
    "\n",
    "def formula_after(data: Input, nsteps: int) -> str:\n",
    "    tpl, rules = data\n",
    "    return nth(iterate(lambda s: step(s, rules), tpl), nsteps)\n",
    "\n",
    "\n",
    "def solution(formula: str) -> int:    \n",
    "    sort_freqs = sorted(Counter(formula).items(), key=lambda item: item[1])\n",
    "    return sort_freqs[-1][1] - sort_freqs[0][1]\n",
    "\n",
    "\n",
    "assert tdata[0] == 'NNCB'\n",
    "assert step(tdata[0], tdata[1]) == 'NCNBCHB'\n",
    "assert formula_after(tdata, 1) == 'NCNBCHB'\n",
    "assert formula_after(tdata, 2) == 'NBCCNBBBCBHCB'\n",
    "assert formula_after(tdata, 3) == 'NBBBCNCCNBBNBNBBCHBHHBCHB'\n",
    "assert formula_after(tdata, 4) == 'NBBNBNBBCCNBCNCCNBBNBBNBBBNBBNBBCBHCBHHNHCBBCBHCB'\n",
    "assert len(formula_after(tdata, 5)) == 97\n",
    "assert len(formula_after(tdata, 10)) == 3073\n",
    "assert solution('NBCCNBBBCBHCB') == 6-1\n",
    "assert solution(formula_after(tdata, nsteps=10)) == 1588"
   ]
  },
  {
   "cell_type": "code",
   "execution_count": 4,
   "metadata": {},
   "outputs": [
    {
     "name": "stdout",
     "output_type": "stream",
     "text": [
      "Subtracting the frequency of the least common element from that of the most common after 10 steps: 2112\n"
     ]
    }
   ],
   "source": [
    "n = solution(formula_after(data, nsteps=10))\n",
    "print(f'Subtracting the frequency of the least common element from that of the most common after 10 steps: {n}')"
   ]
  },
  {
   "cell_type": "markdown",
   "metadata": {},
   "source": [
    "### Part 2"
   ]
  },
  {
   "cell_type": "code",
   "execution_count": 5,
   "metadata": {},
   "outputs": [],
   "source": [
    "def pair_step(freqs: dict[str,int], rules: Rules) -> str:\n",
    "    fs = defaultdict(int)\n",
    "    for k, v in freqs.items():\n",
    "        fs[k[0]+rules[k]] += v\n",
    "        fs[rules[k]+k[1]] += v\n",
    "    return fs\n",
    "\n",
    "\n",
    "def pair_freqs(formula: str) -> dict[str,int]:\n",
    "    return Counter(map(''.join, pairwise(formula)))\n",
    "\n",
    "\n",
    "def pair_freqs_after(data: Input, nsteps: int) -> dict[str,int]:\n",
    "    tpl, rules = data\n",
    "    freqs = pair_freqs(tpl)\n",
    "    return nth(iterate(lambda fs: pair_step(fs, rules), freqs), nsteps)\n",
    "\n",
    "\n",
    "def first_pair_after(data: Input, nsteps: int) -> str:\n",
    "    tpl, rules = data\n",
    "    return nth(iterate(lambda s: step(s[:2], rules), tpl), nsteps)[:2]\n",
    "\n",
    "\n",
    "def last_pair_after(data: Input, nsteps: int) -> str:\n",
    "    tpl, rules = data\n",
    "    return nth(iterate(lambda s: step(s[-2:], rules), tpl), nsteps)[-2:]\n",
    "\n",
    "\n",
    "def serialise_pairs(ps: dict[str,int], fst: str, lst: str) -> dict[str,int]:\n",
    "    ss = defaultdict(int)\n",
    "    for k, v in ps.items():\n",
    "        a, b = k\n",
    "        ss[a] += v/2 if k != fst else 1+(v-1)/2\n",
    "        ss[b] += v/2 if k != lst else 1+(v-1)/2\n",
    "    return ss\n",
    "\n",
    "\n",
    "def freqs_after(data: Input, nsteps: int) -> dict[str,int]:\n",
    "    pfs = pair_freqs_after(data, nsteps)\n",
    "    first = first_pair_after(data, nsteps)\n",
    "    last = last_pair_after(data, nsteps)\n",
    "    fs = serialise_pairs(pfs, first, last)\n",
    "    return fs\n",
    "\n",
    "\n",
    "def solution(data: Input, nsteps: int) -> int:\n",
    "    fs = freqs_after(data, nsteps)\n",
    "    sort_fs = sorted(fs.items(), key=lambda item: item[1])\n",
    "    return int(sort_fs[-1][1] - sort_fs[0][1])\n",
    "\n",
    "\n",
    "assert pair_freqs('NCNBCHB') == dict(NC=1,CN=1,NB=1,BC=1,CH=1,HB=1)\n",
    "assert pair_freqs_after(tdata, 1) == dict(NC=1,CN=1,NB=1,BC=1,CH=1,HB=1)\n",
    "assert pair_freqs_after(tdata, 2) == dict(NB=2,BC=2,CC=1,CN=1,BB=2,CB=2,BH=1,HC=1)\n",
    "assert sum(pair_freqs_after(tdata, 5).values()) + 1 == 97\n",
    "assert [first_pair_after(tdata, n) for n in range(1,5)] == ['NC','NB','NB','NB']\n",
    "assert [last_pair_after(tdata, n) for n in range(1,5)] == ['HB','CB','HB','CB']\n",
    "assert serialise_pairs(dict(NB=2,BC=2,CC=1,CN=1,BB=2,CB=2,BH=1,HC=1),'NB','CB') == Counter('NBCCNBBBCBHCB')\n",
    "assert freqs_after(tdata, 10) == dict(B=1749, C=298, H=161, N=865)\n",
    "assert solution(tdata, nsteps=10) == 1588\n",
    "assert solution(tdata, nsteps=40) == 2188189693529"
   ]
  },
  {
   "cell_type": "code",
   "execution_count": 6,
   "metadata": {},
   "outputs": [
    {
     "name": "stdout",
     "output_type": "stream",
     "text": [
      "Subtracting the frequency of the least common element from that of the most common after 40 steps: 3243771149914\n"
     ]
    }
   ],
   "source": [
    "n = solution(data, nsteps=40)\n",
    "print(f'Subtracting the frequency of the least common element from that of the most common after 40 steps: {n}')"
   ]
  }
 ],
 "metadata": {
  "interpreter": {
   "hash": "34bf0df1641f6a327048e3b88c696c92118af801ec77f897a0ad57ee3c48bebd"
  },
  "kernelspec": {
   "display_name": "Python 3.10.0 64-bit ('venv_py310': venv)",
   "language": "python",
   "name": "python3"
  },
  "language_info": {
   "codemirror_mode": {
    "name": "ipython",
    "version": 3
   },
   "file_extension": ".py",
   "mimetype": "text/x-python",
   "name": "python",
   "nbconvert_exporter": "python",
   "pygments_lexer": "ipython3",
   "version": "3.10.0"
  },
  "orig_nbformat": 4
 },
 "nbformat": 4,
 "nbformat_minor": 2
}
