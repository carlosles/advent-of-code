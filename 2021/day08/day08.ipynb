{
 "cells": [
  {
   "cell_type": "markdown",
   "metadata": {},
   "source": [
    "# Day 8: Seven Segment Search"
   ]
  },
  {
   "cell_type": "code",
   "execution_count": 26,
   "metadata": {},
   "outputs": [],
   "source": [
    "from pathlib import Path\n",
    "import re\n",
    "\n",
    "from aoc2021.util import read_as_list"
   ]
  },
  {
   "cell_type": "markdown",
   "metadata": {},
   "source": [
    "## Puzzle input data"
   ]
  },
  {
   "cell_type": "code",
   "execution_count": 27,
   "metadata": {},
   "outputs": [
    {
     "data": {
      "text/plain": [
       "[['badc',\n",
       "  'bd',\n",
       "  'dbeaf',\n",
       "  'cfdbge',\n",
       "  'dfb',\n",
       "  'cfbdea',\n",
       "  'efbag',\n",
       "  'edcfgab',\n",
       "  'dcafe',\n",
       "  'degfca',\n",
       "  'eacfd',\n",
       "  'acdfbe',\n",
       "  'cbdegf',\n",
       "  'fcbaedg'],\n",
       " ['cd',\n",
       "  'fdbac',\n",
       "  'egcfab',\n",
       "  'gbadcfe',\n",
       "  'cfgdeb',\n",
       "  'cbadfe',\n",
       "  'deca',\n",
       "  'cdf',\n",
       "  'dfabg',\n",
       "  'abefc',\n",
       "  'dcf',\n",
       "  'cfbad',\n",
       "  'gbafced',\n",
       "  'fcd']]"
      ]
     },
     "execution_count": 27,
     "metadata": {},
     "output_type": "execute_result"
    }
   ],
   "source": [
    "parse_input = lambda x: re.split('[\\s|]+', x.strip())\n",
    "\n",
    "# Test data.\n",
    "tdata = list(map(parse_input, [\n",
    "    'be cfbegad cbdgef fgaecd cgeb fdcge agebfd fecdb fabcd edb | fdgacbe cefdb cefbgd gcbe',\n",
    "    'edbfga begcd cbg gc gcadebf fbgde acbgfd abcde gfcbed gfec | fcgedb cgb dgebacf gc',\n",
    "    'fgaebd cg bdaec gdafb agbcfd gdcbef bgcad gfac gcb cdgabef | cg cg fdcagb cbg',\n",
    "    'fbegcd cbd adcefb dageb afcb bc aefdc ecdab fgdeca fcdbega | efabcd cedba gadfec cb',\n",
    "    'aecbfdg fbg gf bafeg dbefa fcge gcbea fcaegb dgceab fcbdga | gecf egdcabf bgf bfgea',\n",
    "    'fgeab ca afcebg bdacfeg cfaedg gcfdb baec bfadeg bafgc acf | gebdcfa ecba ca fadegcb',\n",
    "    'dbcfg fgd bdegcaf fgec aegbdf ecdfab fbedc dacgb gdcebf gf | cefg dcbef fcge gbcadfe',\n",
    "    'bdfegc cbegaf gecbf dfcage bdacg ed bedf ced adcbefg gebcd | ed bcgafe cdgba cbgef',\n",
    "    'egadfb cdbfeg cegd fecab cgb gbdefca cg fgcdab egfdb bfceg | gbdfcae bgc cg cgb',\n",
    "    'gcafb gcf dcaebfg ecagb gf abcdeg gaef cafbge fdbac fegbdc | fgae cfgab fg bagce',\n",
    "]))\n",
    "\n",
    "# Input data.\n",
    "data = read_as_list(Path('./day08-input.txt'), func=parse_input)\n",
    "data[:2]"
   ]
  },
  {
   "cell_type": "markdown",
   "metadata": {},
   "source": [
    "## Puzzle answers\n",
    "### Part 1"
   ]
  },
  {
   "cell_type": "code",
   "execution_count": 28,
   "metadata": {},
   "outputs": [],
   "source": [
    "def output_digits(line: list[str]) -> list[str]:\n",
    "    return line[10:]\n",
    "\n",
    "\n",
    "def is_unique(digit: str) -> bool:\n",
    "    return len(digit) in {2, 3, 4, 7}\n",
    "\n",
    "\n",
    "def num_unique_output_digits(data: list[list[str]]) -> int:\n",
    "    output = map(output_digits, data)\n",
    "    return sum(len(list(filter(is_unique, ds))) for ds in output)    \n",
    "\n",
    "\n",
    "assert output_digits(tdata[0]) == ['fdgacbe','cefdb','cefbgd','gcbe']\n",
    "assert all(map(is_unique, ['ab','abc','abcd','abcdefg']))\n",
    "assert not any(map(is_unique, ['abcde','abcdef']))\n",
    "assert num_unique_output_digits(tdata) == 26"
   ]
  },
  {
   "cell_type": "code",
   "execution_count": 29,
   "metadata": {},
   "outputs": [
    {
     "name": "stdout",
     "output_type": "stream",
     "text": [
      "Number of times the digits 1, 4, 7, or 8 appear in the output values: 387\n"
     ]
    }
   ],
   "source": [
    "n = num_unique_output_digits(data)\n",
    "print(f'Number of times the digits 1, 4, 7, or 8 appear in the output values: {n}')"
   ]
  },
  {
   "cell_type": "markdown",
   "metadata": {},
   "source": [
    "### Part 2"
   ]
  },
  {
   "cell_type": "code",
   "execution_count": null,
   "metadata": {},
   "outputs": [],
   "source": []
  },
  {
   "cell_type": "code",
   "execution_count": null,
   "metadata": {},
   "outputs": [],
   "source": []
  }
 ],
 "metadata": {
  "interpreter": {
   "hash": "34bf0df1641f6a327048e3b88c696c92118af801ec77f897a0ad57ee3c48bebd"
  },
  "kernelspec": {
   "display_name": "Python 3.10.0 64-bit ('venv_py310': venv)",
   "language": "python",
   "name": "python3"
  },
  "language_info": {
   "codemirror_mode": {
    "name": "ipython",
    "version": 3
   },
   "file_extension": ".py",
   "mimetype": "text/x-python",
   "name": "python",
   "nbconvert_exporter": "python",
   "pygments_lexer": "ipython3",
   "version": "3.10.0"
  },
  "orig_nbformat": 4
 },
 "nbformat": 4,
 "nbformat_minor": 2
}
