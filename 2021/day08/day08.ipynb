{
 "cells": [
  {
   "cell_type": "markdown",
   "metadata": {},
   "source": [
    "# Day 8: Seven Segment Search"
   ]
  },
  {
   "cell_type": "code",
   "execution_count": 1,
   "metadata": {},
   "outputs": [],
   "source": [
    "from pathlib import Path\n",
    "import re\n",
    "from collections import Counter\n",
    "from itertools import chain\n",
    "from typing import Callable\n",
    "\n",
    "from aoc2021.util import read_as_list, invert_dict"
   ]
  },
  {
   "cell_type": "markdown",
   "metadata": {},
   "source": [
    "## Puzzle input data"
   ]
  },
  {
   "cell_type": "code",
   "execution_count": 2,
   "metadata": {},
   "outputs": [
    {
     "data": {
      "text/plain": [
       "[['badc',\n",
       "  'bd',\n",
       "  'dbeaf',\n",
       "  'cfdbge',\n",
       "  'dfb',\n",
       "  'cfbdea',\n",
       "  'efbag',\n",
       "  'edcfgab',\n",
       "  'dcafe',\n",
       "  'degfca',\n",
       "  'eacfd',\n",
       "  'acdfbe',\n",
       "  'cbdegf',\n",
       "  'fcbaedg'],\n",
       " ['cd',\n",
       "  'fdbac',\n",
       "  'egcfab',\n",
       "  'gbadcfe',\n",
       "  'cfgdeb',\n",
       "  'cbadfe',\n",
       "  'deca',\n",
       "  'cdf',\n",
       "  'dfabg',\n",
       "  'abefc',\n",
       "  'dcf',\n",
       "  'cfbad',\n",
       "  'gbafced',\n",
       "  'fcd']]"
      ]
     },
     "execution_count": 2,
     "metadata": {},
     "output_type": "execute_result"
    }
   ],
   "source": [
    "parse_input = lambda x: re.split('[\\s|]+', x.strip())\n",
    "\n",
    "# Test data.\n",
    "tdata = list(map(parse_input, [\n",
    "    'be cfbegad cbdgef fgaecd cgeb fdcge agebfd fecdb fabcd edb | fdgacbe cefdb cefbgd gcbe',\n",
    "    'edbfga begcd cbg gc gcadebf fbgde acbgfd abcde gfcbed gfec | fcgedb cgb dgebacf gc',\n",
    "    'fgaebd cg bdaec gdafb agbcfd gdcbef bgcad gfac gcb cdgabef | cg cg fdcagb cbg',\n",
    "    'fbegcd cbd adcefb dageb afcb bc aefdc ecdab fgdeca fcdbega | efabcd cedba gadfec cb',\n",
    "    'aecbfdg fbg gf bafeg dbefa fcge gcbea fcaegb dgceab fcbdga | gecf egdcabf bgf bfgea',\n",
    "    'fgeab ca afcebg bdacfeg cfaedg gcfdb baec bfadeg bafgc acf | gebdcfa ecba ca fadegcb',\n",
    "    'dbcfg fgd bdegcaf fgec aegbdf ecdfab fbedc dacgb gdcebf gf | cefg dcbef fcge gbcadfe',\n",
    "    'bdfegc cbegaf gecbf dfcage bdacg ed bedf ced adcbefg gebcd | ed bcgafe cdgba cbgef',\n",
    "    'egadfb cdbfeg cegd fecab cgb gbdefca cg fgcdab egfdb bfceg | gbdfcae bgc cg cgb',\n",
    "    'gcafb gcf dcaebfg ecagb gf abcdeg gaef cafbge fdbac fegbdc | fgae cfgab fg bagce',\n",
    "]))\n",
    "\n",
    "# Input data.\n",
    "data = read_as_list(Path('./day08-input.txt'), func=parse_input)\n",
    "data[:2]"
   ]
  },
  {
   "cell_type": "markdown",
   "metadata": {},
   "source": [
    "## Puzzle answers\n",
    "### Part 1"
   ]
  },
  {
   "cell_type": "code",
   "execution_count": 3,
   "metadata": {},
   "outputs": [],
   "source": [
    "def output_digits(line: list[str]) -> list[str]:\n",
    "    return line[10:]\n",
    "\n",
    "\n",
    "def is_unique(digit: str) -> bool:\n",
    "    return len(digit) in {2, 3, 4, 7}\n",
    "\n",
    "\n",
    "def num_unique_output_digits(data: list[list[str]]) -> int:\n",
    "    output = map(output_digits, data)\n",
    "    return sum(len(list(filter(is_unique, ds))) for ds in output)    \n",
    "\n",
    "\n",
    "assert output_digits(tdata[0]) == ['fdgacbe','cefdb','cefbgd','gcbe']\n",
    "assert all(map(is_unique, ['ab','abc','abcd','abcdefg']))\n",
    "assert not any(map(is_unique, ['abcde','abcdef']))\n",
    "assert num_unique_output_digits(tdata) == 26"
   ]
  },
  {
   "cell_type": "code",
   "execution_count": 4,
   "metadata": {},
   "outputs": [
    {
     "name": "stdout",
     "output_type": "stream",
     "text": [
      "Number of times the digits 1, 4, 7, or 8 appear in the output values: 387\n"
     ]
    }
   ],
   "source": [
    "n = num_unique_output_digits(data)\n",
    "print(f'Number of times the digits 1, 4, 7, or 8 appear in the output values: {n}')"
   ]
  },
  {
   "cell_type": "markdown",
   "metadata": {},
   "source": [
    "### Part 2"
   ]
  },
  {
   "cell_type": "code",
   "execution_count": 5,
   "metadata": {},
   "outputs": [],
   "source": [
    "SEGMENTS = {\n",
    "    # easy\n",
    "    1: 'cf',\n",
    "    7: 'acf',\n",
    "    4: 'bcdf',\n",
    "    8: 'abcdefg',\n",
    "    # hard\n",
    "    0: 'abcefg',\n",
    "    2: 'acdeg',\n",
    "    3: 'acdfg',\n",
    "    5: 'abdfg',\n",
    "    6: 'abdefg',\n",
    "    9: 'abcdfg',\n",
    "}\n",
    "EASY_NUMS = {1, 4, 7, 8}\n",
    "\n",
    "\n",
    "def possible_matches(digit: str) -> list[int]:\n",
    "    match len(digit):\n",
    "        case 2: return [1]\n",
    "        case 3: return [7]\n",
    "        case 4: return [4]\n",
    "        case 6: return [0, 6, 9]\n",
    "        case 5: return [2, 3, 5]\n",
    "        case 7: return [8]\n",
    "        case _: raise Exception(f'invalid digit {digit}')\n",
    "\n",
    "\n",
    "def easy_digit(n: int, digits: list[str]) -> str:\n",
    "    if n not in EASY_NUMS:\n",
    "        raise Exception('number {n} is not easy')\n",
    "    for d in digits:\n",
    "        if possible_matches(d)[0] == n:\n",
    "            return d\n",
    "\n",
    "\n",
    "def musthave_segments(length: int, digits: list[str]) -> set[str]:\n",
    "    return set.intersection(*map(set, filter(lambda x: len(x) == length, digits)))\n",
    "\n",
    "\n",
    "def encoding_from(digits: list[str]) -> dict[str,str]:\n",
    "    nums = {n: easy_digit(n, digits) for n in EASY_NUMS}\n",
    "    encoding = {}\n",
    "    encoding['a'], = set(nums[7]) - set(nums[1])\n",
    "    encoding['b'], = [k for k, v in Counter(''.join(digits)).items() if v == 6]\n",
    "    encoding['c'], = set([k for k, v in Counter(''.join(digits)).items() if v == 8]).intersection(nums[1])\n",
    "    encoding['d'], = set([k for k, v in Counter(''.join(digits)).items() if v == 7]).intersection(nums[4])\n",
    "    encoding['e'], = [k for k, v in Counter(''.join(digits)).items() if v == 4]\n",
    "    encoding['f'], = [k for k, v in Counter(''.join(digits)).items() if v == 9]\n",
    "    encoding['g'], = musthave_segments(5, digits) - set(nums[7]) - set(nums[4])\n",
    "    return encoding\n",
    "\n",
    "\n",
    "def decoder(digits: list[str]) -> Callable[[str], int]:\n",
    "    char_decoding = invert_dict(encoding_from(digits))\n",
    "    str_decoding = {frozenset(k): v for k, v in invert_dict(SEGMENTS).items()}\n",
    "    def digit2int(d: str) -> int:\n",
    "        return str_decoding[frozenset(d.translate(str.maketrans(char_decoding)))]\n",
    "    return digit2int\n",
    "\n",
    "\n",
    "def signal_digits(line: list[str]) -> list[str]:\n",
    "    return line[:10]\n",
    "\n",
    "\n",
    "def output_values(data: list[list[str]]) -> list[int]:\n",
    "    return [int(''.join(map(str, map(decoder(signal_digits(line)), output_digits(line))))) for line in data]\n",
    "\n",
    "\n",
    "assert musthave_segments(2, SEGMENTS.values()) == {'c','f'}\n",
    "assert musthave_segments(5, SEGMENTS.values()) == {'a','d','g'}\n",
    "assert signal_digits(tdata[0]) == ['be','cfbegad','cbdgef','fgaecd','cgeb','fdcge','agebfd','fecdb','fabcd','edb']\n",
    "assert decoder(signal_digits(tdata[0]))('be') == 1\n",
    "assert list(map(decoder(signal_digits(list(SEGMENTS.values()))), list(SEGMENTS.values()))) == list(SEGMENTS)\n",
    "assert output_values(tdata) == [8394,9781,1197,9361,4873,8418,4548,1625,8717,4315]\n",
    "assert sum(output_values(tdata)) == 61229"
   ]
  },
  {
   "cell_type": "code",
   "execution_count": 6,
   "metadata": {},
   "outputs": [
    {
     "name": "stdout",
     "output_type": "stream",
     "text": [
      "Adding up all of the output values: 986034\n"
     ]
    }
   ],
   "source": [
    "n = sum(output_values(data))\n",
    "print(f'Adding up all of the output values: {n}')"
   ]
  }
 ],
 "metadata": {
  "interpreter": {
   "hash": "34bf0df1641f6a327048e3b88c696c92118af801ec77f897a0ad57ee3c48bebd"
  },
  "kernelspec": {
   "display_name": "Python 3.10.0 64-bit ('venv_py310': venv)",
   "language": "python",
   "name": "python3"
  },
  "language_info": {
   "codemirror_mode": {
    "name": "ipython",
    "version": 3
   },
   "file_extension": ".py",
   "mimetype": "text/x-python",
   "name": "python",
   "nbconvert_exporter": "python",
   "pygments_lexer": "ipython3",
   "version": "3.10.0"
  },
  "orig_nbformat": 4
 },
 "nbformat": 4,
 "nbformat_minor": 2
}
