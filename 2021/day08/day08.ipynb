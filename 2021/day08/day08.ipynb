{
 "cells": [
  {
   "cell_type": "markdown",
   "metadata": {},
   "source": [
    "# Day 8: Seven Segment Search"
   ]
  },
  {
   "cell_type": "code",
   "execution_count": 1,
   "metadata": {},
   "outputs": [],
   "source": [
    "from pathlib import Path\n",
    "from collections import Counter\n",
    "from typing import Callable\n",
    "\n",
    "from aoc2021.util import read_as_list, invert_dict"
   ]
  },
  {
   "cell_type": "markdown",
   "metadata": {},
   "source": [
    "## Puzzle input data"
   ]
  },
  {
   "cell_type": "code",
   "execution_count": 2,
   "metadata": {},
   "outputs": [
    {
     "data": {
      "text/plain": [
       "[(['badc',\n",
       "   'bd',\n",
       "   'dbeaf',\n",
       "   'cfdbge',\n",
       "   'dfb',\n",
       "   'cfbdea',\n",
       "   'efbag',\n",
       "   'edcfgab',\n",
       "   'dcafe',\n",
       "   'degfca'],\n",
       "  ['eacfd', 'acdfbe', 'cbdegf', 'fcbaedg']),\n",
       " (['cd',\n",
       "   'fdbac',\n",
       "   'egcfab',\n",
       "   'gbadcfe',\n",
       "   'cfgdeb',\n",
       "   'cbadfe',\n",
       "   'deca',\n",
       "   'cdf',\n",
       "   'dfabg',\n",
       "   'abefc'],\n",
       "  ['dcf', 'cfbad', 'gbafced', 'fcd'])]"
      ]
     },
     "execution_count": 2,
     "metadata": {},
     "output_type": "execute_result"
    }
   ],
   "source": [
    "parse_input = lambda x: tuple(map(str.split, x.rstrip().split('|')))\n",
    "\n",
    "# Test data.\n",
    "tdata = list(map(parse_input, [\n",
    "    'be cfbegad cbdgef fgaecd cgeb fdcge agebfd fecdb fabcd edb | fdgacbe cefdb cefbgd gcbe',\n",
    "    'edbfga begcd cbg gc gcadebf fbgde acbgfd abcde gfcbed gfec | fcgedb cgb dgebacf gc',\n",
    "    'fgaebd cg bdaec gdafb agbcfd gdcbef bgcad gfac gcb cdgabef | cg cg fdcagb cbg',\n",
    "    'fbegcd cbd adcefb dageb afcb bc aefdc ecdab fgdeca fcdbega | efabcd cedba gadfec cb',\n",
    "    'aecbfdg fbg gf bafeg dbefa fcge gcbea fcaegb dgceab fcbdga | gecf egdcabf bgf bfgea',\n",
    "    'fgeab ca afcebg bdacfeg cfaedg gcfdb baec bfadeg bafgc acf | gebdcfa ecba ca fadegcb',\n",
    "    'dbcfg fgd bdegcaf fgec aegbdf ecdfab fbedc dacgb gdcebf gf | cefg dcbef fcge gbcadfe',\n",
    "    'bdfegc cbegaf gecbf dfcage bdacg ed bedf ced adcbefg gebcd | ed bcgafe cdgba cbgef',\n",
    "    'egadfb cdbfeg cegd fecab cgb gbdefca cg fgcdab egfdb bfceg | gbdfcae bgc cg cgb',\n",
    "    'gcafb gcf dcaebfg ecagb gf abcdeg gaef cafbge fdbac fegbdc | fgae cfgab fg bagce',\n",
    "]))\n",
    "\n",
    "# Input data.\n",
    "data = read_as_list(Path('./day08-input.txt'), func=parse_input)\n",
    "data[:2]"
   ]
  },
  {
   "cell_type": "markdown",
   "metadata": {},
   "source": [
    "## Puzzle answers\n",
    "### Part 1"
   ]
  },
  {
   "cell_type": "code",
   "execution_count": 3,
   "metadata": {},
   "outputs": [],
   "source": [
    "Input = list[list[str]]\n",
    "\n",
    "\n",
    "def is_unique(digit: str) -> bool:\n",
    "    return len(digit) in {2, 3, 4, 7}\n",
    "\n",
    "\n",
    "def num_unique_output_digits(data: Input) -> int:\n",
    "    return sum(len(list(filter(is_unique, ods))) for _,ods in data)    \n",
    "\n",
    "\n",
    "assert all(map(is_unique, ['ab','abc','abcd','abcdefg']))\n",
    "assert not any(map(is_unique, ['abcde','abcdef']))\n",
    "assert num_unique_output_digits(tdata) == 26"
   ]
  },
  {
   "cell_type": "code",
   "execution_count": 4,
   "metadata": {},
   "outputs": [
    {
     "name": "stdout",
     "output_type": "stream",
     "text": [
      "Number of times the digits 1, 4, 7, or 8 appear in the output values: 387\n"
     ]
    }
   ],
   "source": [
    "n = num_unique_output_digits(data)\n",
    "print(f'Number of times the digits 1, 4, 7, or 8 appear in the output values: {n}')"
   ]
  },
  {
   "cell_type": "markdown",
   "metadata": {},
   "source": [
    "### Part 2"
   ]
  },
  {
   "cell_type": "code",
   "execution_count": 5,
   "metadata": {},
   "outputs": [],
   "source": [
    "SEGMENTS = {\n",
    "    'cf': 1,\n",
    "    'acf': 7,\n",
    "    'bcdf': 4,\n",
    "    'abcdefg': 8,\n",
    "    'abcefg': 0,\n",
    "    'acdeg': 2,\n",
    "    'acdfg': 3,\n",
    "    'abdfg': 5,\n",
    "    'abdefg': 6,\n",
    "    'abcdfg': 9,\n",
    "}\n",
    "\n",
    "\n",
    "def decoding_map(digits: list[str]) -> dict[str,str]:\n",
    "    freqs = Counter(''.join(digits))\n",
    "    lens = {c: sum(len(d) for d in digits if c in d) for c in 'abcdefg'}\n",
    "    decoding = {}\n",
    "    for c in 'abcdefg':\n",
    "        match freqs[c], lens[c]:\n",
    "            case 4,_: decoding[c] = 'e'\n",
    "            case 6,_: decoding[c] = 'b'\n",
    "            case 9,_: decoding[c] = 'f'\n",
    "            case 7,38: decoding[c] = 'd'\n",
    "            case 7,40: decoding[c] = 'g'\n",
    "            case 8,43: decoding[c] = 'a'\n",
    "            case 8,38: decoding[c] = 'c'\n",
    "            case _,_: raise Exception(f'invalid pattern for \"{c}\": freq={freqs[c]}, len={lens[c]}')\n",
    "    return decoding\n",
    "\n",
    "\n",
    "def decoder(digits: list[str]) -> Callable[[str], int]:\n",
    "    char_decoding = str.maketrans(decoding_map(digits))\n",
    "    str_decoding = {frozenset(k): v for k, v in SEGMENTS.items()}\n",
    "    return lambda d: str_decoding[frozenset(d.translate(char_decoding))]\n",
    "\n",
    "\n",
    "def output_values(data: Input) -> list[int]:\n",
    "    return [int(''.join(map(str, map(decoder(sds), ods)))) for sds,ods in data]\n",
    "\n",
    "\n",
    "assert list(map(decoder(SEGMENTS), SEGMENTS)) == list(SEGMENTS.values())\n",
    "assert output_values(tdata) == [8394,9781,1197,9361,4873,8418,4548,1625,8717,4315]\n",
    "assert sum(output_values(tdata)) == 61229"
   ]
  },
  {
   "cell_type": "code",
   "execution_count": 6,
   "metadata": {},
   "outputs": [
    {
     "name": "stdout",
     "output_type": "stream",
     "text": [
      "Adding up all of the output values: 986034\n"
     ]
    }
   ],
   "source": [
    "n = sum(output_values(data))\n",
    "print(f'Adding up all of the output values: {n}')"
   ]
  }
 ],
 "metadata": {
  "interpreter": {
   "hash": "34bf0df1641f6a327048e3b88c696c92118af801ec77f897a0ad57ee3c48bebd"
  },
  "kernelspec": {
   "display_name": "Python 3.10.0 64-bit ('venv_py310': venv)",
   "language": "python",
   "name": "python3"
  },
  "language_info": {
   "codemirror_mode": {
    "name": "ipython",
    "version": 3
   },
   "file_extension": ".py",
   "mimetype": "text/x-python",
   "name": "python",
   "nbconvert_exporter": "python",
   "pygments_lexer": "ipython3",
   "version": "3.10.0"
  },
  "orig_nbformat": 4
 },
 "nbformat": 4,
 "nbformat_minor": 2
}
