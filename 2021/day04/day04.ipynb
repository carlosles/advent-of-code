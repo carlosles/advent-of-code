{
 "cells": [
  {
   "cell_type": "markdown",
   "metadata": {},
   "source": [
    "# Day 4: Giant Squid"
   ]
  },
  {
   "cell_type": "code",
   "execution_count": 1,
   "metadata": {},
   "outputs": [],
   "source": [
    "from pathlib import Path\n",
    "import re\n",
    "from dataclasses import dataclass\n",
    "\n",
    "from aoc2021.util import read_as_list"
   ]
  },
  {
   "cell_type": "markdown",
   "metadata": {},
   "source": [
    "## Puzzle input data"
   ]
  },
  {
   "cell_type": "code",
   "execution_count": 2,
   "metadata": {},
   "outputs": [
    {
     "data": {
      "text/plain": [
       "(['15', '61', '32', '33', '87', '17', '56', '73', '27', '83', '0', '18'],\n",
       " [[''],\n",
       "  ['26', '68', '3', '95', '59'],\n",
       "  ['40', '88', '50', '22', '48'],\n",
       "  ['75', '67', '8', '64', '6'],\n",
       "  ['29', '2', '73', '78', '5'],\n",
       "  ['49', '25', '80', '89', '96'],\n",
       "  ['']])"
      ]
     },
     "execution_count": 2,
     "metadata": {},
     "output_type": "execute_result"
    }
   ],
   "source": [
    "parse_line = lambda x: re.split('[,\\s]+', x.strip())\n",
    "\n",
    "# Test data.\n",
    "tdata = list(map(parse_line, [\n",
    "            '7,4,9,5,11,17,23,2,0,14,21,24,10,16,13,6,15,25,12,22,18,20,8,19,3,26,1',\n",
    "            '',\n",
    "            '22 13 17 11  0',\n",
    "            ' 8  2 23  4 24',\n",
    "            '21  9 14 16  7',\n",
    "            ' 6 10  3 18  5',\n",
    "            ' 1 12 20 15 19',\n",
    "            '',\n",
    "            ' 3 15  0  2 22',\n",
    "            ' 9 18 13 17  5',\n",
    "            '19  8  7 25 23',\n",
    "            '20 11 10 24  4',\n",
    "            '14 21 16 12  6',\n",
    "            '',\n",
    "            '14 21 17 24  4',\n",
    "            '10 16 15  9 19',\n",
    "            '18  8 23 26 20',\n",
    "            '22 11 13  6  5',\n",
    "            ' 2  0 12  3  7',\n",
    "        ]\n",
    "    )\n",
    ")\n",
    "\n",
    "# Input data.\n",
    "data = read_as_list(Path('./day04.txt'), func=parse_line)\n",
    "data[0][:12], data[1:8]"
   ]
  },
  {
   "cell_type": "markdown",
   "metadata": {},
   "source": [
    "## Puzzle answers\n",
    "### Part 1"
   ]
  },
  {
   "cell_type": "code",
   "execution_count": 3,
   "metadata": {},
   "outputs": [],
   "source": [
    "@dataclass\n",
    "class Board:\n",
    "    grid: list[list]\n",
    "\n",
    "    @property\n",
    "    def vals(self):\n",
    "        return (x for xs in self.grid for x in xs)\n",
    "\n",
    "    @property\n",
    "    def rows(self):\n",
    "        return (row for row in self.grid)\n",
    "\n",
    "    @property\n",
    "    def cols(self):\n",
    "        return map(list, zip(*self.grid))\n",
    "    \n",
    "    @property\n",
    "    def size(self):\n",
    "        return len(list(self.rows))\n",
    "\n",
    "\n",
    "def sublists(xs: list, n: int) -> list[list]:\n",
    "    return [xs[i:i+n] for i in range(0, len(xs), n)]\n",
    "\n",
    "\n",
    "def parse_data(data) -> tuple[list[int], list[Board]]:\n",
    "    nums = list(map(int, data[0]))\n",
    "    boards_rows = [list(map(int, row)) for row in data[1:] if row != ['']]\n",
    "    boards = list(map(Board, sublists(boards_rows, 5)))\n",
    "    return nums, boards\n",
    "\n",
    "\n",
    "def update(mb: Board, b: Board, n: int) -> Board:\n",
    "    if n not in b.vals:\n",
    "        return mb\n",
    "    marked_grid = sublists([marked or (n == num) for marked, num in zip(mb.vals, b.vals)], b.size)\n",
    "    return Board(marked_grid)\n",
    "\n",
    "\n",
    "def bingo(b: Board) -> bool:\n",
    "    return any(map(all, b.rows)) or any(map(all, b.cols))\n",
    "\n",
    "\n",
    "def unmarked_nums(b: Board, mb: Board) -> list[int]:\n",
    "    return [num for num, is_marked in zip(b.vals, mb.vals) if not is_marked]\n",
    "\n",
    "\n",
    "def board_score(b: Board, mb: Board, n: int) -> int:\n",
    "    return n * sum(unmarked_nums(b, mb))\n",
    "\n",
    "\n",
    "def solve(data: list) -> int:\n",
    "    nums, boards = parse_data(data)\n",
    "    marked_boards = [Board([[False]*5]*5) for _ in range(len(boards))]\n",
    "    for n in nums:\n",
    "        marked_boards = [update(mb, b, n) for mb, b in zip(marked_boards, boards)]\n",
    "        if bingos := [ii for ii, mb in enumerate(marked_boards) if bingo(mb)]:\n",
    "            idx = bingos[0]\n",
    "            winner_b = boards[idx]\n",
    "            winner_mb = marked_boards[idx]\n",
    "            return board_score(winner_b, winner_mb, n)\n",
    "\n",
    "\n",
    "assert list(Board([[11,12],[21,22]]).vals) == [11,12,21,22]\n",
    "assert list(Board([[11,12],[21,22]]).rows) == [[11,12],[21,22]]\n",
    "assert list(Board([[11,12],[21,22]]).cols) == [[11,21],[12,22]]\n",
    "assert sublists([0,1,2,3,4,5], 2) == [[0,1],[2,3],[4,5]]\n",
    "assert parse_data(tdata)[0] == [7,4,9,5,11,17,23,2,0,14,21,24,10,16,13,6,15,25,12,22,18,20,8,19,3,26,1]\n",
    "assert parse_data(tdata)[1] == [\n",
    "    Board([[22,13,17,11,0],[8,2,23,4,24],[21,9,14,16,7],[6,10,3,18,5],[1,12,20,15,19]]),\n",
    "    Board([[3,15,0,2,22],[9,18,13,17,5],[19,8,7,25,23],[20,11,10,24,4],[14,21,16,12,6]]),\n",
    "    Board([[14,21,17,24,4],[10,16,15,9,19],[18,8,23,26,20],[22,11,13,6,5],[2,0,12,3,7]]),\n",
    "]\n",
    "assert bingo(Board([[True,False],[True,True]])) == True\n",
    "assert bingo(Board([[True,False],[False,True]])) == False\n",
    "assert unmarked_nums(Board([[11,12],[21,22]]), Board([[True,False],[True,False]])) == [12,22]\n",
    "assert update(Board([[True,False],[False,False]]), Board([[11,12],[21,22]]), 21) == Board([[True,False],[True,False]])\n",
    "assert solve(tdata) == 4512"
   ]
  },
  {
   "cell_type": "code",
   "execution_count": 4,
   "metadata": {},
   "outputs": [
    {
     "name": "stdout",
     "output_type": "stream",
     "text": [
      "The final score of the winning board: 58412\n"
     ]
    }
   ],
   "source": [
    "score = solve(data)\n",
    "print(f'The final score of the winning board: {score}')"
   ]
  },
  {
   "cell_type": "markdown",
   "metadata": {},
   "source": [
    "### Part 2"
   ]
  },
  {
   "cell_type": "code",
   "execution_count": 5,
   "metadata": {},
   "outputs": [],
   "source": [
    "def solve(data: list) -> int:\n",
    "    nums, boards = parse_data(data)\n",
    "    marked_boards = [Board([[False]*5]*5) for _ in range(len(boards))]\n",
    "    for n in nums:\n",
    "        marked_boards = [update(mb, b, n) for mb, b in zip(marked_boards, boards)]\n",
    "        if bingos := [ii for ii, mb in enumerate(marked_boards) if bingo(mb)]:\n",
    "            if len(boards) == 1:\n",
    "                return board_score(boards[0], marked_boards[0], n)\n",
    "            boards = [b for ii, b in enumerate(boards) if ii not in bingos]\n",
    "            marked_boards = [mb for ii, mb in enumerate(marked_boards) if ii not in bingos]\n",
    "\n",
    "\n",
    "assert solve(tdata) == 1924"
   ]
  },
  {
   "cell_type": "code",
   "execution_count": 6,
   "metadata": {},
   "outputs": [
    {
     "name": "stdout",
     "output_type": "stream",
     "text": [
      "The final score of the last board to win: 10030\n"
     ]
    }
   ],
   "source": [
    "score = solve(data)\n",
    "print(f'The final score of the last board to win: {score}')"
   ]
  }
 ],
 "metadata": {
  "interpreter": {
   "hash": "34bf0df1641f6a327048e3b88c696c92118af801ec77f897a0ad57ee3c48bebd"
  },
  "kernelspec": {
   "display_name": "Python 3.10.0 64-bit ('venv_py310': venv)",
   "language": "python",
   "name": "python3"
  },
  "language_info": {
   "codemirror_mode": {
    "name": "ipython",
    "version": 3
   },
   "file_extension": ".py",
   "mimetype": "text/x-python",
   "name": "python",
   "nbconvert_exporter": "python",
   "pygments_lexer": "ipython3",
   "version": "3.10.0"
  },
  "orig_nbformat": 4
 },
 "nbformat": 4,
 "nbformat_minor": 2
}
