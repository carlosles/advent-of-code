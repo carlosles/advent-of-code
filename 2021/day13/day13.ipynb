{
 "cells": [
  {
   "cell_type": "markdown",
   "metadata": {},
   "source": [
    "# Day 13: Transparent Origami"
   ]
  },
  {
   "cell_type": "code",
   "execution_count": 1,
   "metadata": {},
   "outputs": [],
   "source": [
    "from pathlib import Path\n",
    "import re\n",
    "from more_itertools import split_at\n",
    "from dataclasses import dataclass\n",
    "from functools import reduce, lru_cache\n",
    "\n",
    "from aoc2021.util import read_as_list"
   ]
  },
  {
   "cell_type": "markdown",
   "metadata": {},
   "source": [
    "## Puzzle input data"
   ]
  },
  {
   "cell_type": "code",
   "execution_count": 2,
   "metadata": {},
   "outputs": [
    {
     "data": {
      "text/plain": [
       "([(1053, 618), (966, 812), (363, 813), (663, 488), (582, 93)],\n",
       " [('x', 655),\n",
       "  ('y', 447),\n",
       "  ('x', 327),\n",
       "  ('y', 223),\n",
       "  ('x', 163),\n",
       "  ('y', 111),\n",
       "  ('x', 81),\n",
       "  ('y', 55),\n",
       "  ('x', 40),\n",
       "  ('y', 27),\n",
       "  ('y', 13),\n",
       "  ('y', 6)])"
      ]
     },
     "execution_count": 2,
     "metadata": {},
     "output_type": "execute_result"
    }
   ],
   "source": [
    "parse_line = lambda line: re.findall('[xy0-9]+', line.rstrip())\n",
    "\n",
    "def split_input(lines: list):\n",
    "    dots, folds = split_at(lines, lambda x: x == [])\n",
    "    dots = [tuple(int(v) for v in d) for d in dots]\n",
    "    folds = [tuple(int(v) if v.isdigit() else v for v in f) for f in folds]\n",
    "    return dots, folds\n",
    "\n",
    "\n",
    "# Test data.\n",
    "tdata = split_input(map(parse_line, [\n",
    "    '6,10',\n",
    "    '0,14',\n",
    "    '9,10',\n",
    "    '0,3',\n",
    "    '10,4',\n",
    "    '4,11',\n",
    "    '6,0',\n",
    "    '6,12',\n",
    "    '4,1',\n",
    "    '0,13',\n",
    "    '10,12',\n",
    "    '3,4',\n",
    "    '3,0',\n",
    "    '8,4',\n",
    "    '1,10',\n",
    "    '2,14',\n",
    "    '8,10',\n",
    "    '9,0',\n",
    "    '',\n",
    "    'fold along y=7',\n",
    "    'fold along x=5',\n",
    "]))\n",
    "\n",
    "# Input data.\n",
    "data = split_input(read_as_list(Path('./day13-input.txt'), func=parse_line))\n",
    "data[0][:5], data[1]"
   ]
  },
  {
   "cell_type": "markdown",
   "metadata": {},
   "source": [
    "## Puzzle answers\n",
    "### Part 1"
   ]
  },
  {
   "cell_type": "code",
   "execution_count": 3,
   "metadata": {},
   "outputs": [],
   "source": [
    "Dot = tuple[int,int]\n",
    "Fold = tuple[str,int]\n",
    "Input = tuple[list[Dot],list[Fold]]\n",
    "\n",
    "\n",
    "@dataclass(frozen=True, eq=True)\n",
    "class Paper:\n",
    "    dots: set[Dot]\n",
    "\n",
    "    @property\n",
    "    @lru_cache(1)\n",
    "    def size(self) -> tuple[int,int]:\n",
    "        return self.width, self.height\n",
    "\n",
    "    @property\n",
    "    @lru_cache(1)\n",
    "    def width(self) -> int:\n",
    "        return max(x for x,_ in self.dots)\n",
    "    \n",
    "    @property\n",
    "    @lru_cache(1)\n",
    "    def height(self) -> int:\n",
    "        return max(y for _,y in self.dots)\n",
    "\n",
    "    @lru_cache(1)\n",
    "    def __str__(self) -> str:\n",
    "        return '\\n'.join(''.join(['[▣]' if (c,r) in self.dots else ' . ' for c in range(self.width+1)]) for r in range(self.height+1))\n",
    "\n",
    "\n",
    "def fold_coord(c: int, mag: int, dim: int):\n",
    "    return max(dim,2*mag)-c if c >= mag else c+max(0,dim-2*mag)\n",
    "\n",
    "\n",
    "def fold_dot(dot: Dot, fold: Fold, sz: tuple[int,int]):\n",
    "    x, y = dot\n",
    "    ax, mag = fold\n",
    "    w, h = sz\n",
    "    match ax:\n",
    "        case 'x': x = fold_coord(x, mag, w)\n",
    "        case 'y': y = fold_coord(y, mag, h)\n",
    "        case _: raise Exception('invalid fold axis {ax}')\n",
    "    return x, y\n",
    "\n",
    "\n",
    "def fold_paper(pp: Paper, fold: Fold) -> Paper:\n",
    "    dots = frozenset(fold_dot(d, fold, pp.size) for d in pp.dots)\n",
    "    return Paper(dots)\n",
    "\n",
    "\n",
    "def dots_visible(data: Input) -> Paper:\n",
    "    dots, folds = data\n",
    "    return fold_paper(Paper(frozenset(dots)), folds[0]).dots\n",
    "\n",
    "\n",
    "assert Paper(frozenset(tdata[0])).width == 10\n",
    "assert Paper(frozenset(tdata[0])).height == 14\n",
    "assert Paper(frozenset(tdata[0])).size == (10, 14)\n",
    "assert fold_dot((0,1),('y',6),(10,14)) == (0,3)\n",
    "assert fold_dot((0,1),('y',10),(10,14)) == (0,1)\n",
    "assert fold_dot((0,14),('y',6),(10,14)) == (0,0)\n",
    "assert fold_dot((0,14),('y',10),(10,14)) == (0,6)\n",
    "assert fold_dot((1,0),('x',4),(10,14)) == (3,0)\n",
    "assert fold_dot((1,0),('x',7),(10,14)) == (1,0)\n",
    "assert len(dots_visible(tdata)) == 17"
   ]
  },
  {
   "cell_type": "code",
   "execution_count": 4,
   "metadata": {},
   "outputs": [
    {
     "name": "stdout",
     "output_type": "stream",
     "text": [
      "Number of dots visible after completing the first fold instruction on the transparent paper: 666\n"
     ]
    }
   ],
   "source": [
    "n = len(dots_visible(data))\n",
    "print(f'Number of dots visible after completing the first fold instruction on the transparent paper: {n}')"
   ]
  },
  {
   "cell_type": "markdown",
   "metadata": {},
   "source": [
    "### Part 2"
   ]
  },
  {
   "cell_type": "code",
   "execution_count": 5,
   "metadata": {},
   "outputs": [],
   "source": [
    "def ircamera_code(data: Input) -> Paper:\n",
    "    dots, folds = data\n",
    "    pp = Paper(frozenset(dots))\n",
    "    return reduce(fold_paper, folds, pp)\n",
    "\n",
    "\n",
    "assert len(ircamera_code(tdata).dots) == 16"
   ]
  },
  {
   "cell_type": "code",
   "execution_count": 6,
   "metadata": {},
   "outputs": [
    {
     "name": "stdout",
     "output_type": "stream",
     "text": [
      "Code to activate the infrared thermal imaging camera system: \n",
      " . [▣][▣] .  .  .  . [▣][▣] . [▣] .  . [▣] .  . [▣][▣] .  . [▣][▣][▣][▣] . [▣] .  . [▣] . [▣] .  . [▣] . [▣] .  . [▣]\n",
      "[▣] .  . [▣] .  .  .  . [▣] . [▣] .  . [▣] . [▣] .  . [▣] .  .  .  . [▣] . [▣] .  . [▣] . [▣] . [▣] .  . [▣] .  . [▣]\n",
      "[▣] .  .  .  .  .  .  . [▣] . [▣][▣][▣][▣] . [▣] .  . [▣] .  .  . [▣] .  . [▣][▣][▣][▣] . [▣][▣] .  .  . [▣] .  . [▣]\n",
      "[▣] .  .  .  .  .  .  . [▣] . [▣] .  . [▣] . [▣][▣][▣][▣] .  . [▣] .  .  . [▣] .  . [▣] . [▣] . [▣] .  . [▣] .  . [▣]\n",
      "[▣] .  . [▣] . [▣] .  . [▣] . [▣] .  . [▣] . [▣] .  . [▣] . [▣] .  .  .  . [▣] .  . [▣] . [▣] . [▣] .  . [▣] .  . [▣]\n",
      " . [▣][▣] .  .  . [▣][▣] .  . [▣] .  . [▣] . [▣] .  . [▣] . [▣][▣][▣][▣] . [▣] .  . [▣] . [▣] .  . [▣] .  . [▣][▣] . \n"
     ]
    }
   ],
   "source": [
    "code = ircamera_code(data)\n",
    "print(f'Code to activate the infrared thermal imaging camera system: \\n{code}')"
   ]
  }
 ],
 "metadata": {
  "interpreter": {
   "hash": "34bf0df1641f6a327048e3b88c696c92118af801ec77f897a0ad57ee3c48bebd"
  },
  "kernelspec": {
   "display_name": "Python 3.10.0 64-bit ('venv_py310': venv)",
   "language": "python",
   "name": "python3"
  },
  "language_info": {
   "codemirror_mode": {
    "name": "ipython",
    "version": 3
   },
   "file_extension": ".py",
   "mimetype": "text/x-python",
   "name": "python",
   "nbconvert_exporter": "python",
   "pygments_lexer": "ipython3",
   "version": "3.10.0"
  },
  "orig_nbformat": 4
 },
 "nbformat": 4,
 "nbformat_minor": 2
}
