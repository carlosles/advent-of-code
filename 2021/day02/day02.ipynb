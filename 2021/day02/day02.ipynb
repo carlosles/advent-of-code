{
 "cells": [
  {
   "cell_type": "markdown",
   "metadata": {},
   "source": [
    "# Day 2: Dive!"
   ]
  },
  {
   "cell_type": "code",
   "execution_count": 27,
   "metadata": {},
   "outputs": [],
   "source": [
    "from pathlib import Path\n",
    "from dataclasses import dataclass\n",
    "from enum import Enum, auto\n",
    "from functools import reduce\n",
    "\n",
    "from aoc2021.util import read_as_list"
   ]
  },
  {
   "cell_type": "markdown",
   "metadata": {},
   "source": [
    "## Puzzle input data"
   ]
  },
  {
   "cell_type": "code",
   "execution_count": 28,
   "metadata": {},
   "outputs": [],
   "source": [
    "# Test data.\n",
    "tdata = [\n",
    "    'forward 5',\n",
    "    'down 5',\n",
    "    'forward 8',\n",
    "    'up 3',\n",
    "    'down 8',\n",
    "    'forward 2'\n",
    "]\n",
    "\n",
    "# Input data.\n",
    "data = read_as_list(Path('./day02.txt'), func=str)"
   ]
  },
  {
   "cell_type": "markdown",
   "metadata": {},
   "source": [
    "## Puzzle answers\n",
    "### Part 1"
   ]
  },
  {
   "cell_type": "code",
   "execution_count": 29,
   "metadata": {},
   "outputs": [],
   "source": [
    "class Direction(Enum):\n",
    "    FORWARD = auto()\n",
    "    UP = auto()\n",
    "    DOWN = auto() \n",
    "\n",
    "\n",
    "@dataclass\n",
    "class Move:\n",
    "    direction: Direction\n",
    "    distance: int\n",
    "\n",
    "\n",
    "@dataclass\n",
    "class Position:\n",
    "    x: int  # horizontal\n",
    "    y: int  # depth\n",
    "\n",
    "\n",
    "def parse_direction(txt: str) -> Direction:\n",
    "    match txt:\n",
    "        case 'forward':\n",
    "            return Direction.FORWARD\n",
    "        case 'up':\n",
    "            return Direction.UP\n",
    "        case 'down':\n",
    "            return Direction.DOWN\n",
    "        case _:\n",
    "            raise Exception('invalid direction {txt}')\n",
    "\n",
    "\n",
    "def parse_move(txt: str) -> Move:\n",
    "    dire, dist = txt.split(sep=' ')\n",
    "    return Move(direction=parse_direction(dire), distance=int(dist))\n",
    "\n",
    "\n",
    "def move(pos: Position, mov: Move) -> Position:\n",
    "    match mov.direction:\n",
    "        case Direction.FORWARD:\n",
    "            return Position(x=pos.x + mov.distance, y=pos.y)\n",
    "        case Direction.UP:\n",
    "            return Position(x=pos.x, y=pos.y - mov.distance)\n",
    "        case Direction.DOWN:\n",
    "            return Position(x=pos.x, y=pos.y + mov.distance)\n",
    "        case _:\n",
    "            raise Exception('invalid move direction {mov.direction}')\n",
    "\n",
    "\n",
    "def complete_course(moves: list[Move], init_pos: Position = Position(0,0)) -> Position:\n",
    "    return reduce(move, moves, init_pos)\n",
    "\n",
    "\n",
    "assert list(map(parse_move, tdata)) == [\n",
    "    Move(Direction.FORWARD, 5),\n",
    "    Move(Direction.DOWN, 5),\n",
    "    Move(Direction.FORWARD, 8),\n",
    "    Move(Direction.UP, 3),\n",
    "    Move(Direction.DOWN, 8),\n",
    "    Move(Direction.FORWARD, 2)\n",
    "]\n",
    "assert complete_course(map(parse_move, tdata)) == Position(15, 10)"
   ]
  },
  {
   "cell_type": "code",
   "execution_count": 30,
   "metadata": {},
   "outputs": [
    {
     "name": "stdout",
     "output_type": "stream",
     "text": [
      "Multiplying the final horizontal position by the final depth: 1427868\n"
     ]
    }
   ],
   "source": [
    "pos = complete_course(map(parse_move, data))\n",
    "n = pos.x * pos.y\n",
    "print(f'Multiplying the final horizontal position by the final depth: {n}')"
   ]
  },
  {
   "cell_type": "markdown",
   "metadata": {},
   "source": [
    "### Part 2"
   ]
  },
  {
   "cell_type": "code",
   "execution_count": 31,
   "metadata": {},
   "outputs": [],
   "source": [
    "@dataclass\n",
    "class Position:\n",
    "    x: int  # horizontal\n",
    "    y: int  # depth\n",
    "    aim: int\n",
    "\n",
    "\n",
    "def move(pos: Position, mov: Move) -> Position:\n",
    "    match mov.direction:\n",
    "        case Direction.FORWARD:\n",
    "            return Position(x=pos.x + mov.distance, y=pos.y + pos.aim*mov.distance, aim=pos.aim)\n",
    "        case Direction.UP:\n",
    "            return Position(x=pos.x, y=pos.y, aim=pos.aim - mov.distance)\n",
    "        case Direction.DOWN:\n",
    "            return Position(x=pos.x, y=pos.y, aim=pos.aim + mov.distance)\n",
    "        case _:\n",
    "            raise Exception('invalid move direction {mov.direction}')\n",
    "\n",
    "\n",
    "def complete_course(moves: list[Move], init_pos: Position = Position(0,0,0)) -> Position:\n",
    "    return reduce(move, moves, init_pos)\n",
    "\n",
    "\n",
    "pos = complete_course(map(parse_move, tdata)) \n",
    "assert (pos.x, pos.y) == (15, 60)"
   ]
  },
  {
   "cell_type": "code",
   "execution_count": 32,
   "metadata": {},
   "outputs": [
    {
     "name": "stdout",
     "output_type": "stream",
     "text": [
      "Multiplying the final horizontal position by the final depth: 1568138742\n"
     ]
    }
   ],
   "source": [
    "pos = complete_course(map(parse_move, data))\n",
    "n = pos.x * pos.y\n",
    "print(f'Multiplying the final horizontal position by the final depth: {n}')"
   ]
  }
 ],
 "metadata": {
  "interpreter": {
   "hash": "34bf0df1641f6a327048e3b88c696c92118af801ec77f897a0ad57ee3c48bebd"
  },
  "kernelspec": {
   "display_name": "Python 3.10.0 64-bit ('venv_py310': venv)",
   "language": "python",
   "name": "python3"
  },
  "language_info": {
   "codemirror_mode": {
    "name": "ipython",
    "version": 3
   },
   "file_extension": ".py",
   "mimetype": "text/x-python",
   "name": "python",
   "nbconvert_exporter": "python",
   "pygments_lexer": "ipython3",
   "version": "3.10.0"
  },
  "orig_nbformat": 4
 },
 "nbformat": 4,
 "nbformat_minor": 2
}
