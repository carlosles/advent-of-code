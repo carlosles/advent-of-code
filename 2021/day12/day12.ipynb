{
 "cells": [
  {
   "cell_type": "markdown",
   "metadata": {},
   "source": [
    "# Day 12: Passage Pathing"
   ]
  },
  {
   "cell_type": "code",
   "execution_count": 1,
   "metadata": {},
   "outputs": [],
   "source": [
    "from pathlib import Path\n",
    "from itertools import permutations\n",
    "from more_itertools import flatten\n",
    "\n",
    "from aoc2021.util import read_as_list"
   ]
  },
  {
   "cell_type": "markdown",
   "metadata": {},
   "source": [
    "## Puzzle input data"
   ]
  },
  {
   "cell_type": "code",
   "execution_count": 2,
   "metadata": {},
   "outputs": [
    {
     "data": {
      "text/plain": [
       "[('pq', 'GX'), ('GX', 'ah'), ('mj', 'PI'), ('ey', 'start'), ('end', 'PI')]"
      ]
     },
     "execution_count": 2,
     "metadata": {},
     "output_type": "execute_result"
    }
   ],
   "source": [
    "parse_input = lambda line: tuple(line.rstrip().split('-'))\n",
    "\n",
    "# Test data.\n",
    "tdata = list(map(parse_input, [\n",
    "    'start-A',\n",
    "    'start-b',\n",
    "    'A-c',\n",
    "    'A-b',\n",
    "    'b-d',\n",
    "    'A-end',\n",
    "    'b-end',\n",
    "]))\n",
    "\n",
    "# Input data.\n",
    "data = read_as_list(Path('./day12-input.txt'), func=parse_input)\n",
    "data[:5]"
   ]
  },
  {
   "cell_type": "markdown",
   "metadata": {},
   "source": [
    "## Puzzle answers\n",
    "### Part 1"
   ]
  },
  {
   "cell_type": "code",
   "execution_count": 3,
   "metadata": {},
   "outputs": [],
   "source": [
    "Input = list[tuple[str,str]]\n",
    "Graph = dict[str,set[str]]\n",
    "\n",
    "\n",
    "def expand_graph(data: Input) -> Graph:\n",
    "    nodes = set(flatten(data))\n",
    "    edges = list(flatten(map(permutations, data)))\n",
    "    return {n: set(end for start,end in edges if start == n) for n in nodes}\n",
    "\n",
    "\n",
    "def is_small(cave: str) -> bool:\n",
    "    return cave[0].islower()\n",
    "\n",
    "\n",
    "def drop_node(node: str, graph: Graph) -> Graph:\n",
    "    return {n: sbns.difference([node]) for n,sbns in graph.items()}\n",
    "\n",
    "\n",
    "def paths_between(graph: Graph, start: str, end: str) -> list[str]:\n",
    "    if start == end:\n",
    "        return [end]\n",
    "    if is_small(start):\n",
    "        graph = drop_node(start, graph)\n",
    "    return [f'{start},{p}' for sbn in graph[start] for p in paths_between(graph, sbn, end) if graph[sbn]]\n",
    "\n",
    "\n",
    "def cave_paths(data: Input) -> list[str]:\n",
    "    return paths_between(expand_graph(data), 'start', 'end')\n",
    "\n",
    "\n",
    "assert set(expand_graph(tdata).keys()) == {'start','A','b','c','d','end'}\n",
    "assert expand_graph(tdata)['A'] == {'start','b','c','end'}\n",
    "assert list(map(is_small, ['A','b','CC','dd'])) == [False,True,False,True]\n",
    "assert len(cave_paths(tdata)) == 10\n",
    "assert set(cave_paths(tdata)) == {\n",
    "    'start,A,b,A,c,A,end',\n",
    "    'start,A,b,A,end',\n",
    "    'start,A,b,end',\n",
    "    'start,A,c,A,b,A,end',\n",
    "    'start,A,c,A,b,end',\n",
    "    'start,A,c,A,end',\n",
    "    'start,A,end',\n",
    "    'start,b,A,c,A,end',\n",
    "    'start,b,A,end',\n",
    "    'start,b,end',\n",
    "}"
   ]
  },
  {
   "cell_type": "code",
   "execution_count": 4,
   "metadata": {},
   "outputs": [
    {
     "name": "stdout",
     "output_type": "stream",
     "text": [
      "Number of paths through cave system that visit small caves at most once: 5333\n"
     ]
    }
   ],
   "source": [
    "n = len(cave_paths(data))\n",
    "print(f'Number of paths through cave system that visit small caves at most once: {n}')"
   ]
  },
  {
   "cell_type": "markdown",
   "metadata": {},
   "source": [
    "### Part 2"
   ]
  },
  {
   "cell_type": "code",
   "execution_count": 5,
   "metadata": {},
   "outputs": [],
   "source": [
    "def paths_between(graph: Graph, start: str, end: str, repeated: bool = False) -> list[str]:\n",
    "    if start == end:\n",
    "        return [end]\n",
    "    graphs = [graph]\n",
    "    repeats = [repeated]\n",
    "    if is_small(start):\n",
    "        if repeated or start == 'start':\n",
    "            graphs = [drop_node(start, graph)]\n",
    "        else:\n",
    "            repeats = [True, False]\n",
    "            graphs = [graph, drop_node(start, graph)]\n",
    "    return set(f'{start},{p}' for rep,g in zip(repeats, graphs) for sbn in g[start] for p in paths_between(g, sbn, end, rep) if g[sbn])\n",
    "\n",
    "\n",
    "def cave_paths(data: Input) -> list[str]:\n",
    "    return paths_between(expand_graph(data), 'start', 'end')\n",
    "\n",
    "\n",
    "assert len(cave_paths(tdata)) == 36"
   ]
  },
  {
   "cell_type": "code",
   "execution_count": 6,
   "metadata": {},
   "outputs": [
    {
     "name": "stdout",
     "output_type": "stream",
     "text": [
      "Number of paths through cave system that visit at most once all small caves but one (at most twice): 146553\n"
     ]
    }
   ],
   "source": [
    "n = len(cave_paths(data))\n",
    "print(f'Number of paths through cave system that visit at most once all small caves but one (at most twice): {n}')"
   ]
  }
 ],
 "metadata": {
  "interpreter": {
   "hash": "34bf0df1641f6a327048e3b88c696c92118af801ec77f897a0ad57ee3c48bebd"
  },
  "kernelspec": {
   "display_name": "Python 3.10.0 64-bit ('venv_py310': venv)",
   "language": "python",
   "name": "python3"
  },
  "language_info": {
   "codemirror_mode": {
    "name": "ipython",
    "version": 3
   },
   "file_extension": ".py",
   "mimetype": "text/x-python",
   "name": "python",
   "nbconvert_exporter": "python",
   "pygments_lexer": "ipython3",
   "version": "3.10.0"
  },
  "orig_nbformat": 4
 },
 "nbformat": 4,
 "nbformat_minor": 2
}
