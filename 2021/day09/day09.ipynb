{
 "cells": [
  {
   "cell_type": "markdown",
   "metadata": {},
   "source": [
    "# Day 9: Smoke Basin"
   ]
  },
  {
   "cell_type": "code",
   "execution_count": 1,
   "metadata": {},
   "outputs": [],
   "source": [
    "from pathlib import Path\n",
    "from math import inf\n",
    "from itertools import chain\n",
    "\n",
    "from aoc2021.util import read_as_list, transpose"
   ]
  },
  {
   "cell_type": "markdown",
   "metadata": {},
   "source": [
    "## Puzzle input data"
   ]
  },
  {
   "cell_type": "code",
   "execution_count": 2,
   "metadata": {},
   "outputs": [
    {
     "name": "stdout",
     "output_type": "stream",
     "text": [
      "[[6, 6, 8, 9, 9, 2, 1, 0, 1, 3, 4, 9, 8, 7, 8, 9, 9, 0, 2, 3, 4, 6, 7, 8, 9, 2, 0, 1, 9, 9, 7, 5, 6, 7, 8, 9, 3, 2, 9, 4, 2, 1, 2, 3, 4, 9, 4, 2, 1, 2, 3, 4, 7, 8, 9, 4, 3, 9, 8, 9, 8, 7, 6, 5, 4, 9, 8, 6, 6, 5, 4, 5, 7, 6, 8, 9, 9, 6, 4, 9, 8, 7, 6, 5, 4, 3, 1, 2, 3, 5, 7, 8, 9, 6, 5, 6, 5, 6, 7, 8], [5, 5, 7, 8, 8, 9, 2, 1, 5, 4, 9, 8, 7, 6, 9, 9, 8, 9, 4, 5, 5, 9, 8, 9, 4, 3, 9, 9, 8, 7, 5, 4, 7, 8, 7, 8, 9, 9, 8, 9, 9, 0, 1, 2, 6, 8, 9, 9, 2, 3, 4, 5, 6, 9, 6, 5, 9, 8, 7, 6, 9, 8, 9, 6, 9, 8, 7, 5, 4, 3, 2, 7, 4, 5, 9, 7, 8, 9, 3, 2, 9, 8, 7, 7, 5, 2, 0, 1, 2, 5, 6, 9, 8, 7, 4, 3, 4, 7, 8, 9]]\n"
     ]
    }
   ],
   "source": [
    "parse_input = lambda line: [int(c) for c in line.rstrip()]\n",
    "# Test data.\n",
    "tdata = list(map(parse_input,[\n",
    "    '2199943210',\n",
    "    '3987894921',\n",
    "    '9856789892',\n",
    "    '8767896789',\n",
    "    '9899965678',\n",
    "]))\n",
    "\n",
    "# Input data.\n",
    "data = read_as_list(Path('./day09-input.txt'), func=parse_input)\n",
    "print(data[:2])"
   ]
  },
  {
   "cell_type": "markdown",
   "metadata": {},
   "source": [
    "## Puzzle answers\n",
    "### Part 1"
   ]
  },
  {
   "cell_type": "code",
   "execution_count": 3,
   "metadata": {},
   "outputs": [],
   "source": [
    "def local_min_mask(xs: list[int]) -> list[bool]:\n",
    "    return [v < min(l,r) for v,l,r in zip(xs, [inf]+xs, xs[1:]+[inf])]\n",
    "\n",
    "\n",
    "def low_points(data: list[list[int]]) -> list[int]:\n",
    "    rows_mask = map(local_min_mask, data)\n",
    "    cols_mask = transpose(map(local_min_mask, transpose(data)))\n",
    "    lows_mask = [all(bs) for rs,cs in zip(rows_mask, cols_mask) for bs in zip(rs,cs)]\n",
    "    return [x for x,b in zip(chain.from_iterable(data), lows_mask) if b]\n",
    "\n",
    "\n",
    "def total_risk(lps: list[int]) -> int:\n",
    "    return sum(lps) + len(lps)\n",
    "\n",
    "\n",
    "assert local_min_mask([1,2,3,2,5,5]) == [True,False,False,True,False,False]\n",
    "assert len(low_points(tdata)) == len([1,0,5,5])\n",
    "assert sum(low_points(tdata)) == sum([1,0,5,5])\n",
    "assert total_risk(low_points(tdata)) == 15"
   ]
  },
  {
   "cell_type": "code",
   "execution_count": 4,
   "metadata": {},
   "outputs": [
    {
     "name": "stdout",
     "output_type": "stream",
     "text": [
      "The sum of the risk levels of all low points on the heightmap: 500\n"
     ]
    }
   ],
   "source": [
    "n = total_risk(low_points(data))\n",
    "print(f'The sum of the risk levels of all low points on the heightmap: {n}')"
   ]
  },
  {
   "cell_type": "markdown",
   "metadata": {},
   "source": [
    "### Part 2"
   ]
  },
  {
   "cell_type": "code",
   "execution_count": null,
   "metadata": {},
   "outputs": [],
   "source": []
  },
  {
   "cell_type": "code",
   "execution_count": null,
   "metadata": {},
   "outputs": [],
   "source": []
  }
 ],
 "metadata": {
  "interpreter": {
   "hash": "34bf0df1641f6a327048e3b88c696c92118af801ec77f897a0ad57ee3c48bebd"
  },
  "kernelspec": {
   "display_name": "Python 3.10.0 64-bit ('venv_py310': venv)",
   "language": "python",
   "name": "python3"
  },
  "language_info": {
   "codemirror_mode": {
    "name": "ipython",
    "version": 3
   },
   "file_extension": ".py",
   "mimetype": "text/x-python",
   "name": "python",
   "nbconvert_exporter": "python",
   "pygments_lexer": "ipython3",
   "version": "3.10.0"
  },
  "orig_nbformat": 4
 },
 "nbformat": 4,
 "nbformat_minor": 2
}
