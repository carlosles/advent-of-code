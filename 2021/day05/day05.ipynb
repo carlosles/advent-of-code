{
 "cells": [
  {
   "cell_type": "markdown",
   "metadata": {},
   "source": [
    "# Day 5: Hydrothermal Venture"
   ]
  },
  {
   "cell_type": "code",
   "execution_count": 1,
   "metadata": {},
   "outputs": [],
   "source": [
    "from pathlib import Path\n",
    "import re\n",
    "from dataclasses import dataclass\n",
    "from collections import Counter\n",
    "from itertools import chain\n",
    "\n",
    "from aoc2021.util import read_as_list, chunks"
   ]
  },
  {
   "cell_type": "markdown",
   "metadata": {},
   "source": [
    "## Puzzle input data"
   ]
  },
  {
   "cell_type": "code",
   "execution_count": 2,
   "metadata": {},
   "outputs": [
    {
     "data": {
      "text/plain": [
       "[[[777, 778], [777, 676]],\n",
       " [[500, 510], [378, 510]],\n",
       " [[441, 657], [441, 638]],\n",
       " [[724, 480], [724, 778]],\n",
       " [[702, 85], [44, 85]]]"
      ]
     },
     "execution_count": 2,
     "metadata": {},
     "output_type": "execute_result"
    }
   ],
   "source": [
    "parse_line = lambda x: list(chunks(list(map(int, re.split('[,\\s\\->]+', x.rstrip()))), 2))\n",
    "\n",
    "# Test data.\n",
    "tdata = list(map(parse_line, [\n",
    "            '8,0 -> 0,8',\n",
    "            '0,9 -> 5,9',\n",
    "            '9,4 -> 3,4',\n",
    "            '2,2 -> 2,1',\n",
    "            '7,0 -> 7,4',\n",
    "            '6,4 -> 2,0',\n",
    "            '0,9 -> 2,9',\n",
    "            '3,4 -> 1,4',\n",
    "            '0,0 -> 8,8',\n",
    "            '5,5 -> 8,2',\n",
    "        ]\n",
    "    )\n",
    ")\n",
    "\n",
    "# Input data.\n",
    "data = read_as_list(Path('./day05.txt'), func=parse_line)\n",
    "data[:5]"
   ]
  },
  {
   "cell_type": "markdown",
   "metadata": {},
   "source": [
    "## Puzzle answers\n",
    "### Part 1"
   ]
  },
  {
   "cell_type": "code",
   "execution_count": 3,
   "metadata": {},
   "outputs": [],
   "source": [
    "@dataclass(eq=True, frozen=True)\n",
    "class Point:\n",
    "    x: int  # column\n",
    "    y: int  # row\n",
    "\n",
    "\n",
    "@dataclass(frozen=True)\n",
    "class Line:\n",
    "    start: Point\n",
    "    end: Point\n",
    "\n",
    "    @property\n",
    "    def is_vertical(self):\n",
    "        return self.start.x == self.end.x\n",
    "\n",
    "    @property\n",
    "    def is_horizontal(self):\n",
    "        return self.start.y == self.end.y\n",
    "\n",
    "    @property\n",
    "    def points(self):\n",
    "        if self.is_vertical:\n",
    "            x = self.end.x\n",
    "            ys = sorted([self.start.y, self.end.y])\n",
    "            return [Point(x,y) for y in range(ys[0], ys[1]+1)]\n",
    "        elif self.is_horizontal:\n",
    "            y = self.end.y\n",
    "            xs = sorted([self.start.x, self.end.x])\n",
    "            return [Point(x,y) for x in range(xs[0], xs[1]+1)]\n",
    "        else:\n",
    "            return []\n",
    "\n",
    "\n",
    "def overlapping_points(data):\n",
    "    points = chain.from_iterable(Line(*[Point(*cs) for cs in css]).points for css in data)\n",
    "    return [k for k, v in Counter(points).items() if v > 1]\n",
    "\n",
    "\n",
    "assert Line(Point(0,9), Point(5,9)).is_horizontal == True\n",
    "assert Line(Point(7,0), Point(7,4)).is_horizontal == False\n",
    "assert Line(Point(0,9), Point(5,9)).is_vertical == False\n",
    "assert Line(Point(7,0), Point(7,4)).is_vertical == True\n",
    "assert Line(Point(0,9), Point(2,9)).points == [Point(0,9), Point(1,9), Point(2,9)]\n",
    "assert Line(Point(2,2), Point(2,1)).points == [Point(2,1), Point(2,2)]\n",
    "assert Line(Point(1,5), Point(5,1)).points == []\n",
    "assert len(overlapping_points(tdata)) == 5"
   ]
  },
  {
   "cell_type": "code",
   "execution_count": 4,
   "metadata": {},
   "outputs": [
    {
     "name": "stdout",
     "output_type": "stream",
     "text": [
      "The number of points where at least two lines overlap: 6283\n"
     ]
    }
   ],
   "source": [
    "n = len(overlapping_points(data))\n",
    "print(f'The number of points where at least two lines overlap: {n}')"
   ]
  },
  {
   "cell_type": "markdown",
   "metadata": {},
   "source": [
    "### Part 2"
   ]
  },
  {
   "cell_type": "code",
   "execution_count": 5,
   "metadata": {},
   "outputs": [],
   "source": [
    "@dataclass(frozen=True)\n",
    "class Line:\n",
    "    start: Point\n",
    "    end: Point\n",
    "\n",
    "    @property\n",
    "    def is_vertical(self):\n",
    "        return self.start.x == self.end.x\n",
    "\n",
    "    @property\n",
    "    def is_horizontal(self):\n",
    "        return self.start.y == self.end.y\n",
    "\n",
    "    @property\n",
    "    def is_diagonal(self):\n",
    "        return abs(self.start.x - self.end.x) == abs(self.start.y - self.end.y)\n",
    "\n",
    "    @property\n",
    "    def points(self):\n",
    "        if self.is_vertical:\n",
    "            x = self.end.x\n",
    "            ys = sorted([self.start.y, self.end.y])\n",
    "            return [Point(x,y) for y in range(ys[0], ys[1]+1)]\n",
    "        elif self.is_horizontal:\n",
    "            y = self.end.y\n",
    "            xs = sorted([self.start.x, self.end.x])\n",
    "            return [Point(x,y) for x in range(xs[0], xs[1]+1)]\n",
    "        elif self.is_diagonal:\n",
    "            xgrad = 1 if self.end.x > self.start.x else -1\n",
    "            ygrad = 1 if self.end.y > self.start.y else -1\n",
    "            xs = range(self.start.x, self.end.x + xgrad, xgrad)\n",
    "            ys = range(self.start.y, self.end.y + ygrad, ygrad)\n",
    "            return [Point(x,y) for x, y in zip(xs, ys)]\n",
    "        else:\n",
    "            return []\n",
    "\n",
    "\n",
    "\n",
    "def overlapping_points(data):\n",
    "    points = chain.from_iterable(Line(*[Point(*cs) for cs in css]).points for css in data)\n",
    "    return [k for k, v in Counter(points).items() if v > 1]\n",
    "\n",
    "\n",
    "assert Line(Point(1,1), Point(3,3)).is_diagonal == True\n",
    "assert Line(Point(9,7), Point(7,9)).is_diagonal == True\n",
    "assert Line(Point(0,1), Point(3,3)).is_diagonal == False\n",
    "assert Line(Point(1,1), Point(3,3)).points == [Point(1,1), Point(2,2), Point(3,3)]\n",
    "assert Line(Point(9,7), Point(7,9)).points == [Point(9,7), Point(8,8), Point(7,9)]\n",
    "assert len(overlapping_points(tdata)) == 12"
   ]
  },
  {
   "cell_type": "code",
   "execution_count": 6,
   "metadata": {},
   "outputs": [
    {
     "name": "stdout",
     "output_type": "stream",
     "text": [
      "The number of points where at least two lines overlap: 18864\n"
     ]
    }
   ],
   "source": [
    "n = len(overlapping_points(data))\n",
    "print(f'The number of points where at least two lines overlap: {n}')"
   ]
  }
 ],
 "metadata": {
  "interpreter": {
   "hash": "34bf0df1641f6a327048e3b88c696c92118af801ec77f897a0ad57ee3c48bebd"
  },
  "kernelspec": {
   "display_name": "Python 3.10.0 64-bit ('venv_py310': venv)",
   "language": "python",
   "name": "python3"
  },
  "language_info": {
   "codemirror_mode": {
    "name": "ipython",
    "version": 3
   },
   "file_extension": ".py",
   "mimetype": "text/x-python",
   "name": "python",
   "nbconvert_exporter": "python",
   "pygments_lexer": "ipython3",
   "version": "3.10.0"
  },
  "orig_nbformat": 4
 },
 "nbformat": 4,
 "nbformat_minor": 2
}
