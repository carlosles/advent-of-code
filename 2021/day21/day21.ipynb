{
 "cells": [
  {
   "cell_type": "markdown",
   "metadata": {},
   "source": [
    "# Day 21: Dirac Dice"
   ]
  },
  {
   "cell_type": "code",
   "execution_count": 1,
   "metadata": {},
   "outputs": [],
   "source": [
    "from typing import Iterable, Callable\n",
    "from itertools import repeat, chain\n",
    "from more_itertools import take\n",
    "import re\n",
    "from functools import cache"
   ]
  },
  {
   "cell_type": "markdown",
   "metadata": {},
   "source": [
    "## Puzzle input data"
   ]
  },
  {
   "cell_type": "code",
   "execution_count": 2,
   "metadata": {},
   "outputs": [
    {
     "data": {
      "text/plain": [
       "(6, 7)"
      ]
     },
     "execution_count": 2,
     "metadata": {},
     "output_type": "execute_result"
    }
   ],
   "source": [
    "def parse_line(line: str) -> int:\n",
    "    return int(re.findall('[1-9]+', line)[1])\n",
    "\n",
    "# Test data.\n",
    "tdata = tuple(map(parse_line, [\n",
    "    'Player 1 starting position: 4',\n",
    "    'Player 2 starting position: 8',\n",
    "]))\n",
    "\n",
    "# Input data.\n",
    "data = tuple(map(parse_line, [\n",
    "    'Player 1 starting position: 6',\n",
    "    'Player 2 starting position: 7',\n",
    "]))\n",
    "data"
   ]
  },
  {
   "cell_type": "markdown",
   "metadata": {},
   "source": [
    "## Puzzle answers\n",
    "### Part 1"
   ]
  },
  {
   "cell_type": "code",
   "execution_count": 3,
   "metadata": {},
   "outputs": [],
   "source": [
    "Input = tuple[int]\n",
    "\n",
    "\n",
    "def determ_die(nsides: int = 100) -> Iterable[int]:\n",
    "    return chain.from_iterable(repeat(range(1, nsides+1)))\n",
    "\n",
    "\n",
    "def update_pos(pos: int, nsteps: int) -> int:\n",
    "    return (pos + nsteps - 1) % 10 + 1\n",
    "\n",
    "\n",
    "def dirac_game(starts: tuple[int], die: Callable=determ_die) -> Iterable[tuple[tuple[int],tuple[int]]]:\n",
    "    nplayers = len(starts)\n",
    "    positions = list(starts)\n",
    "    scores = [0]*nplayers\n",
    "    rolls = die()\n",
    "    while True:\n",
    "        for i in range(nplayers):\n",
    "            rollsum = sum(take(3, rolls))\n",
    "            positions[i] = update_pos(positions[i], rollsum)\n",
    "            scores[i] += positions[i]\n",
    "            yield tuple(scores), tuple(positions)\n",
    "            if scores[i] >= 1000:\n",
    "                return\n",
    "\n",
    "\n",
    "def solution(data: Input) -> int:\n",
    "    states = list(dirac_game(data))\n",
    "    nrolls = len(states) * 3\n",
    "    loser_score = min(states[-1][0])\n",
    "    return nrolls * loser_score\n",
    "\n",
    "\n",
    "assert take(7, determ_die(5)) == [1,2,3,4,5,1,2]\n",
    "assert [update_pos(1, n) for n in [8,9,10,11]] == [9,10,1,2]\n",
    "assert len(list(dirac_game(tdata))) == 331\n",
    "assert solution(tdata) == 739785"
   ]
  },
  {
   "cell_type": "code",
   "execution_count": 4,
   "metadata": {},
   "outputs": [
    {
     "name": "stdout",
     "output_type": "stream",
     "text": [
      "Multiplying the score of the losing player by the number of times the die was rolled: 921585\n"
     ]
    }
   ],
   "source": [
    "n = solution(data)\n",
    "print(f'Multiplying the score of the losing player by the number of times the die was rolled: {n}')"
   ]
  },
  {
   "cell_type": "markdown",
   "metadata": {},
   "source": [
    "### Part 2"
   ]
  },
  {
   "cell_type": "code",
   "execution_count": 5,
   "metadata": {},
   "outputs": [],
   "source": [
    "def quantum_die(nsides: int = 3) -> Iterable[tuple[int]]:\n",
    "    return repeat(tuple(range(1, nsides+1)))\n",
    "\n",
    "\n",
    "def next_player(current: int) -> int:\n",
    "    return (current + 1) % 2\n",
    "\n",
    "\n",
    "@cache\n",
    "def dirac_game(init_ps: tuple[int], init_ss: tuple[int], player: int, rolls: tuple[int], die: Callable=quantum_die) -> tuple[int]:\n",
    "    if len(rolls) == 3:\n",
    "        ps = list(init_ps)\n",
    "        ss = list(init_ss)\n",
    "        ps[player] = update_pos(ps[player], sum(rolls))\n",
    "        ss[player] += ps[player]\n",
    "        if max(ss) >= 21:\n",
    "            return (1,0) if ss[0] > ss[1] else (0,1)\n",
    "        init_ps = tuple(ps)\n",
    "        init_ss = tuple(ss)\n",
    "        player = next_player(player)\n",
    "        rolls = tuple()\n",
    "    p1wins, p2wins = zip(*(dirac_game(init_ps, init_ss, player, tuple(sorted(rolls + (roll,)))) for roll in next(die())))\n",
    "    return (sum(p1wins), sum(p2wins))\n",
    "\n",
    "\n",
    "def solution(data: Input) -> int:\n",
    "    nwins = dirac_game(init_ps=data, init_ss=(0,0), player=0, rolls=tuple())\n",
    "    return max(nwins)\n",
    "\n",
    "\n",
    "assert take(2, quantum_die(3)) == [(1,2,3),(1,2,3)]\n",
    "assert list(map(next_player, [0,1])) == [1,0]\n",
    "assert solution(tdata) == 444356092776315"
   ]
  },
  {
   "cell_type": "code",
   "execution_count": 6,
   "metadata": {},
   "outputs": [
    {
     "name": "stdout",
     "output_type": "stream",
     "text": [
      "The player that wins in more universes wins in 911090395997650 universes.\n"
     ]
    }
   ],
   "source": [
    "n = solution(data)\n",
    "print(f'The player that wins in more universes wins in {n} universes.')"
   ]
  }
 ],
 "metadata": {
  "interpreter": {
   "hash": "34bf0df1641f6a327048e3b88c696c92118af801ec77f897a0ad57ee3c48bebd"
  },
  "kernelspec": {
   "display_name": "Python 3.10.0 64-bit ('venv_py310': venv)",
   "language": "python",
   "name": "python3"
  },
  "language_info": {
   "codemirror_mode": {
    "name": "ipython",
    "version": 3
   },
   "file_extension": ".py",
   "mimetype": "text/x-python",
   "name": "python",
   "nbconvert_exporter": "python",
   "pygments_lexer": "ipython3",
   "version": "3.10.0"
  },
  "orig_nbformat": 4
 },
 "nbformat": 4,
 "nbformat_minor": 2
}
