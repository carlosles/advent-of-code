{
 "cells": [
  {
   "cell_type": "markdown",
   "metadata": {},
   "source": [
    "# Day 20: Trench Map"
   ]
  },
  {
   "cell_type": "code",
   "execution_count": 1,
   "metadata": {},
   "outputs": [],
   "source": [
    "from pathlib import Path\n",
    "from typing import Iterable\n",
    "from itertools import product\n",
    "from more_itertools import flatten, iterate, nth, ilen\n",
    "\n",
    "from aoc2021.util import read_as_list, pad, bin2dec"
   ]
  },
  {
   "cell_type": "markdown",
   "metadata": {},
   "source": [
    "## Puzzle input data"
   ]
  },
  {
   "cell_type": "code",
   "execution_count": 2,
   "metadata": {},
   "outputs": [
    {
     "data": {
      "text/plain": [
       "('#####.#.###.###.#.#.####.#####.####.#..####.##.###',\n",
       " ['.###..###..#.####.#....#..##.###.........#.#.#..#.#...##...#.#........##..#..#.##....#.##.#...###.##',\n",
       "  '.##......#.#..###.######.#.#.######...#..##...#......###..###..####..####..##..#.##.#.#.#....##..##.',\n",
       "  '.##.##..###..#...###....#...##..#..######...#.#.##.#..####.#..#..###.######.#.#..#..##...##.#.#.#.#.',\n",
       "  '..#..##..####...###.#...###.#.####...#####...#####.#.#########.##..####...#....##....##..#.#..#...##',\n",
       "  '.#.#..#.###....###.#.#..###.#..#####.#.###...####.##.###.#..####.###...#...#.##.#..#..#...##....####'])"
      ]
     },
     "execution_count": 2,
     "metadata": {},
     "output_type": "execute_result"
    }
   ],
   "source": [
    "def parse_input(fpath: Path) -> tuple[str,list[str]]:\n",
    "    lines = read_as_list(fpath, str.rstrip)\n",
    "    algo, img = lines[0], lines[2:]\n",
    "    return algo, img\n",
    "\n",
    "# Test data.\n",
    "tdata = parse_input(Path('./day20-test-input.txt'))\n",
    "\n",
    "# Input data.\n",
    "data = parse_input(Path('./day20-input.txt'))\n",
    "data[0][:50], data[1][:5]"
   ]
  },
  {
   "cell_type": "markdown",
   "metadata": {},
   "source": [
    "## Puzzle answers\n",
    "### Part 1"
   ]
  },
  {
   "cell_type": "code",
   "execution_count": 6,
   "metadata": {},
   "outputs": [
    {
     "name": "stdout",
     "output_type": "stream",
     "text": [
      "1\n",
      "1\n",
      "2\n",
      "1\n",
      "2\n"
     ]
    }
   ],
   "source": [
    "Pos = tuple[int,int]\n",
    "Algorithm = str\n",
    "Image = list[str]\n",
    "Input = tuple[Algorithm,Image]\n",
    "\n",
    "\n",
    "def halfwidth(width: int) -> int:\n",
    "    return (width - 1) // 2\n",
    "\n",
    "\n",
    "def kernel2d(pos: Pos, width: int = 3) -> Iterable[Pos]:\n",
    "    if width % 2 == 0:\n",
    "        raise Exception(f'invalid width {width}, must be odd')\n",
    "    n = halfwidth(width)\n",
    "    r, c = pos\n",
    "    return ((r+dr, c+dc) for dr,dc in product(range(-n, n+1), repeat=2))\n",
    "\n",
    "\n",
    "def window2d(pos: Pos, img: Image, fill: str, width: int = 3) -> Iterable[Pos]:\n",
    "    n = halfwidth(width)\n",
    "    img = nth(iterate(lambda x: pad(x, fill=fill), img), n=n)\n",
    "    pos = tuple(x+n for x in pos)\n",
    "    return (img[r][c] for r,c in kernel2d(pos))\n",
    "\n",
    "\n",
    "def padding(n: int, algo: Algorithm, width: int = 3) -> str:\n",
    "    if n == 1 or algo[0] == '.':\n",
    "        return '.'\n",
    "    if n % 2 == 0:\n",
    "        return '#'\n",
    "    return decode('1'*(width**2), algo)\n",
    "\n",
    "\n",
    "def algo_idx(s: str) -> int:\n",
    "    return bin2dec(s.replace('.', '0').replace('#', '1'))\n",
    "\n",
    "\n",
    "def decode(s: str, algo: Algorithm) -> str:\n",
    "    return algo[algo_idx(s)]\n",
    "\n",
    "\n",
    "def enhance(img: Image, algo: Algorithm, kwidth: int = 3, n: int = 1) -> Image:\n",
    "    if n == 0:\n",
    "        return img\n",
    "    img = enhance(img, algo, n=n-1)\n",
    "    print(n)\n",
    "    fill = padding(n, algo, kwidth)\n",
    "    img = nth(iterate(lambda x: [''.join(ss) for ss in pad(x, fill=fill)], img), n=halfwidth(kwidth))\n",
    "    nr, nc = len(img), len(img[0])\n",
    "    img = [''.join(decode(''.join(window2d((r,c), img, fill)), algo) for c in range(nc)) for r in range(nr)]\n",
    "    return img\n",
    "\n",
    "\n",
    "def solution(data: Input) -> int:\n",
    "    algo, img = data\n",
    "    img = enhance(img, algo, n=2)\n",
    "    return ilen(p for p in flatten(img) if p == '#')\n",
    "\n",
    "\n",
    "assert halfwidth(7) == 3\n",
    "assert list(kernel2d((1,2), width=3)) == [(0,1),(0,2),(0,3),(1,1),(1,2),(1,3),(2,1),(2,2),(2,3)]\n",
    "assert list(window2d((1,2), [[11,12,13],[21,22,23],[31,32,33]], '.', width=3)) == [12,13,'.',22,23,'.',32,33,'.']\n",
    "assert [padding(n, tdata[0]) for n in range(1,5)] == ['.']*4\n",
    "assert [padding(n, data[0]) for n in range(1,5)] == ['.','#','.','#']\n",
    "assert algo_idx('...#...#.') == 34\n",
    "assert decode('...#...#.', tdata[0]) == '#'\n",
    "assert enhance(*tdata[::-1]) == ['.##.##.',\n",
    "                                 '#..#.#.',\n",
    "                                 '##.#..#',\n",
    "                                 '####..#',\n",
    "                                 '.#..##.',\n",
    "                                 '..##..#',\n",
    "                                 '...#.#.']\n",
    "assert enhance(*tdata[::-1], n=2) == ['.......#.',\n",
    "                                      '.#..#.#..',\n",
    "                                      '#.#...###',\n",
    "                                      '#...##.#.',\n",
    "                                      '#.....#.#',\n",
    "                                      '.#.#####.',\n",
    "                                      '..#.#####',\n",
    "                                      '...##.##.',\n",
    "                                      '....###..']\n",
    "assert solution(tdata) == 35"
   ]
  },
  {
   "cell_type": "code",
   "execution_count": 7,
   "metadata": {},
   "outputs": [
    {
     "name": "stdout",
     "output_type": "stream",
     "text": [
      "1\n",
      "2\n",
      "Number of pixels that are lit in the resulting image: 5316\n"
     ]
    }
   ],
   "source": [
    "n = solution(data)\n",
    "print(f'Number of pixels that are lit in the resulting image: {n}')"
   ]
  },
  {
   "cell_type": "markdown",
   "metadata": {},
   "source": [
    "### Part 2"
   ]
  },
  {
   "cell_type": "code",
   "execution_count": 8,
   "metadata": {},
   "outputs": [
    {
     "name": "stdout",
     "output_type": "stream",
     "text": [
      "1\n",
      "2\n",
      "3\n",
      "4\n",
      "5\n",
      "6\n",
      "7\n",
      "8\n",
      "9\n",
      "10\n",
      "11\n",
      "12\n",
      "13\n",
      "14\n",
      "15\n",
      "16\n",
      "17\n",
      "18\n",
      "19\n",
      "20\n",
      "21\n",
      "22\n",
      "23\n",
      "24\n",
      "25\n",
      "26\n",
      "27\n",
      "28\n",
      "29\n",
      "30\n",
      "31\n",
      "32\n",
      "33\n",
      "34\n",
      "35\n",
      "36\n",
      "37\n",
      "38\n",
      "39\n",
      "40\n",
      "41\n",
      "42\n",
      "43\n",
      "44\n",
      "45\n",
      "46\n",
      "47\n",
      "48\n",
      "49\n",
      "50\n"
     ]
    }
   ],
   "source": [
    "def solution(data: Input) -> int:\n",
    "    algo, img = data\n",
    "    img = enhance(img, algo, n=50)\n",
    "    return ilen(p for p in flatten(img) if p == '#')\n",
    "\n",
    "\n",
    "assert solution(tdata) == 3351"
   ]
  },
  {
   "cell_type": "code",
   "execution_count": 9,
   "metadata": {},
   "outputs": [
    {
     "name": "stdout",
     "output_type": "stream",
     "text": [
      "1\n",
      "2\n",
      "3\n",
      "4\n",
      "5\n",
      "6\n",
      "7\n",
      "8\n",
      "9\n",
      "10\n",
      "11\n",
      "12\n",
      "13\n",
      "14\n",
      "15\n",
      "16\n",
      "17\n",
      "18\n",
      "19\n",
      "20\n",
      "21\n",
      "22\n",
      "23\n",
      "24\n",
      "25\n",
      "26\n",
      "27\n",
      "28\n",
      "29\n",
      "30\n",
      "31\n",
      "32\n",
      "33\n",
      "34\n",
      "35\n",
      "36\n",
      "37\n",
      "38\n",
      "39\n",
      "40\n",
      "41\n",
      "42\n",
      "43\n",
      "44\n",
      "45\n",
      "46\n",
      "47\n",
      "48\n",
      "49\n",
      "50\n",
      "Number of pixels that are lit in the resulting image after 50 enhancements: 16728\n"
     ]
    }
   ],
   "source": [
    "n = solution(data)\n",
    "print(f'Number of pixels that are lit in the resulting image after 50 enhancements: {n}')"
   ]
  }
 ],
 "metadata": {
  "interpreter": {
   "hash": "34bf0df1641f6a327048e3b88c696c92118af801ec77f897a0ad57ee3c48bebd"
  },
  "kernelspec": {
   "display_name": "Python 3.10.0 64-bit ('venv_py310': venv)",
   "language": "python",
   "name": "python3"
  },
  "language_info": {
   "codemirror_mode": {
    "name": "ipython",
    "version": 3
   },
   "file_extension": ".py",
   "mimetype": "text/x-python",
   "name": "python",
   "nbconvert_exporter": "python",
   "pygments_lexer": "ipython3",
   "version": "3.10.0"
  },
  "orig_nbformat": 4
 },
 "nbformat": 4,
 "nbformat_minor": 2
}
