{
 "cells": [
  {
   "cell_type": "markdown",
   "metadata": {},
   "source": [
    "# Day 1: Sonar Sweep"
   ]
  },
  {
   "cell_type": "code",
   "execution_count": 2,
   "metadata": {},
   "outputs": [],
   "source": [
    "from pathlib import Path\n",
    "\n",
    "from aoc2021.util import read_as_list"
   ]
  },
  {
   "cell_type": "markdown",
   "metadata": {},
   "source": [
    "## Puzzle input data"
   ]
  },
  {
   "cell_type": "code",
   "execution_count": 3,
   "metadata": {},
   "outputs": [],
   "source": [
    "# Test data.\n",
    "tdata = [\n",
    "    199,\n",
    "    200,\n",
    "    208,\n",
    "    210,\n",
    "    200,\n",
    "    207,\n",
    "    240,\n",
    "    269,\n",
    "    260,\n",
    "    263\n",
    "]\n",
    "\n",
    "# Input data.\n",
    "data = read_as_list(Path('./day01.txt'), func=int)"
   ]
  },
  {
   "cell_type": "markdown",
   "metadata": {},
   "source": [
    "## Puzzle answers\n",
    "### Part 1"
   ]
  },
  {
   "cell_type": "code",
   "execution_count": 4,
   "metadata": {},
   "outputs": [],
   "source": [
    "def num_increases(xs: list[int]) -> int:\n",
    "    return sum(1 for fst, snd in zip(xs, xs[1:]) if snd > fst)\n",
    "\n",
    "assert num_increases(tdata) == 7"
   ]
  },
  {
   "cell_type": "code",
   "execution_count": 6,
   "metadata": {},
   "outputs": [
    {
     "name": "stdout",
     "output_type": "stream",
     "text": [
      "Number of measurements larger than the previous: 1676\n"
     ]
    }
   ],
   "source": [
    "n = num_increases(data)\n",
    "print(f'Number of measurements larger than the previous: {n}')"
   ]
  },
  {
   "cell_type": "markdown",
   "metadata": {},
   "source": [
    "### Part 2"
   ]
  },
  {
   "cell_type": "code",
   "execution_count": 8,
   "metadata": {},
   "outputs": [],
   "source": [
    "def moving_sum(xs: list[int], n: int = 1) -> list[int]:\n",
    "    return [sum(ys) for ys in zip(*[xs[i:] for i in range(n)])]\n",
    "\n",
    "assert moving_sum(tdata, n=3) == [607,618,618,617,647,716,769,792]\n",
    "assert num_increases(moving_sum(tdata, n=3)) == 5"
   ]
  },
  {
   "cell_type": "code",
   "execution_count": 6,
   "metadata": {},
   "outputs": [
    {
     "name": "stdout",
     "output_type": "stream",
     "text": [
      "Number of three-measurement sums larger than the previous: 1706\n"
     ]
    }
   ],
   "source": [
    "n = num_increases(moving_sum(data, n=3))\n",
    "print(f'Number of three-measurement sums larger than the previous: {n}')"
   ]
  }
 ],
 "metadata": {
  "interpreter": {
   "hash": "44a9cdcbdccbf05a880e90d2e6fe72470baab4d1b82472d890be0596ed887a6b"
  },
  "kernelspec": {
   "display_name": "Python 3.10.0 64-bit",
   "language": "python",
   "name": "python3"
  },
  "language_info": {
   "codemirror_mode": {
    "name": "ipython",
    "version": 3
   },
   "file_extension": ".py",
   "mimetype": "text/x-python",
   "name": "python",
   "nbconvert_exporter": "python",
   "pygments_lexer": "ipython3",
   "version": "3.10.0"
  },
  "orig_nbformat": 4
 },
 "nbformat": 4,
 "nbformat_minor": 2
}
