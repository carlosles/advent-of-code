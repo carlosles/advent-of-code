{
 "cells": [
  {
   "cell_type": "markdown",
   "metadata": {},
   "source": [
    "# Day 11: Dumbo Octopus"
   ]
  },
  {
   "cell_type": "code",
   "execution_count": 1,
   "metadata": {},
   "outputs": [],
   "source": [
    "from pathlib import Path\n",
    "from copy import deepcopy\n",
    "from collections import deque\n",
    "from itertools import product, count\n",
    "\n",
    "from aoc2021.util import read_as_list"
   ]
  },
  {
   "cell_type": "markdown",
   "metadata": {},
   "source": [
    "## Puzzle input data"
   ]
  },
  {
   "cell_type": "code",
   "execution_count": 2,
   "metadata": {},
   "outputs": [
    {
     "data": {
      "text/plain": [
       "[[4, 4, 3, 8, 6, 2, 4, 2, 6, 2],\n",
       " [6, 2, 6, 3, 2, 5, 1, 8, 6, 4],\n",
       " [2, 6, 1, 8, 8, 1, 2, 4, 3, 4],\n",
       " [2, 1, 3, 4, 2, 6, 4, 5, 6, 5],\n",
       " [1, 8, 1, 5, 1, 3, 1, 2, 4, 7],\n",
       " [2, 6, 1, 2, 4, 5, 7, 3, 2, 5],\n",
       " [8, 5, 8, 5, 7, 6, 7, 5, 8, 4],\n",
       " [7, 2, 1, 7, 1, 3, 4, 5, 5, 6],\n",
       " [2, 8, 2, 5, 4, 5, 6, 5, 6, 3],\n",
       " [8, 2, 4, 8, 4, 7, 3, 5, 8, 4]]"
      ]
     },
     "execution_count": 2,
     "metadata": {},
     "output_type": "execute_result"
    }
   ],
   "source": [
    "parse_input = lambda line: [int(c) for c in line.rstrip()]\n",
    "\n",
    "# Test data.\n",
    "tdata = list(map(parse_input, [\n",
    "    '5483143223',\n",
    "    '2745854711',\n",
    "    '5264556173',\n",
    "    '6141336146',\n",
    "    '6357385478',\n",
    "    '4167524645',\n",
    "    '2176841721',\n",
    "    '6882881134',\n",
    "    '4846848554',\n",
    "    '5283751526',\n",
    "]))\n",
    "\n",
    "# Input data.\n",
    "data = read_as_list(Path('./day11-input.txt'), func=parse_input)\n",
    "data"
   ]
  },
  {
   "cell_type": "markdown",
   "metadata": {},
   "source": [
    "## Puzzle answers\n",
    "### Part 1"
   ]
  },
  {
   "cell_type": "code",
   "execution_count": 3,
   "metadata": {},
   "outputs": [],
   "source": [
    "Input = list[list[int]]\n",
    "Pos = tuple[int,int]\n",
    "\n",
    "\n",
    "def neighbours(pos: Pos, sz: int) -> list[Pos]:\n",
    "    \"\"\"TL, T, TR, L, R, BL, B, BR\"\"\"\n",
    "    drs = (-1,-1,-1,0,0,1,1,1)\n",
    "    dcs = (-1,0,1,-1,1,-1,0,1)\n",
    "    row,col = pos\n",
    "    return [(r,c) for r,c in ((row+dr,col+dc) for dr,dc in zip(drs,dcs)) if 0<=r<sz and 0<=c<sz]\n",
    "\n",
    "\n",
    "def num_flashes_after(energy: Input, nsteps: int) -> int:\n",
    "    e = deepcopy(energy)\n",
    "    sz = len(e)\n",
    "    n = 0\n",
    "    for _ in range(nsteps):\n",
    "        to_update = deque(product(range(sz), repeat=2))\n",
    "        flashed = deque()\n",
    "        while to_update:\n",
    "            r,c = to_update.popleft()\n",
    "            if (r,c) in flashed:\n",
    "                continue\n",
    "            pos = e[r][c] = (e[r][c] + 1) % 10\n",
    "            if pos == 0:\n",
    "                n += 1\n",
    "                flashed.append((r,c))\n",
    "                to_update.extend(neighbours((r,c), sz))\n",
    "    return n\n",
    "\n",
    "\n",
    "assert neighbours((0,0), 10) == [(0,1), (1,0), (1,1)]\n",
    "assert neighbours((9,9), 10) == [(8,8), (8,9), (9,8)]\n",
    "assert num_flashes_after(tdata, 10) == 204\n",
    "assert num_flashes_after(tdata, 100) == 1656"
   ]
  },
  {
   "cell_type": "code",
   "execution_count": 4,
   "metadata": {},
   "outputs": [
    {
     "name": "stdout",
     "output_type": "stream",
     "text": [
      "Total number of flashes after 100 steps: 1640\n"
     ]
    }
   ],
   "source": [
    "n = num_flashes_after(data, 100)\n",
    "print(f'Total number of flashes after 100 steps: {n}')"
   ]
  },
  {
   "cell_type": "markdown",
   "metadata": {},
   "source": [
    "### Part 2"
   ]
  },
  {
   "cell_type": "code",
   "execution_count": 5,
   "metadata": {},
   "outputs": [],
   "source": [
    "def first_syncflash(energy: Input) -> int:\n",
    "    e = deepcopy(energy)\n",
    "    sz = len(e)\n",
    "    n = 0\n",
    "    to_update = deque()\n",
    "    for i in count():\n",
    "        for r,c in product(range(sz), repeat=2):\n",
    "            to_update.append((r,c))\n",
    "        flashed = deque()\n",
    "        while to_update:\n",
    "            r,c = to_update.popleft()\n",
    "            if (r,c) in flashed:\n",
    "                continue\n",
    "            if e[r][c] < 9:\n",
    "                e[r][c] += 1\n",
    "            else:\n",
    "                e[r][c] = 0\n",
    "                n += 1\n",
    "                flashed.append((r,c))\n",
    "                to_update.extend(neighbours((r,c), sz))\n",
    "        if len(flashed) == sz * sz:\n",
    "            return i + 1\n",
    "\n",
    "\n",
    "assert first_syncflash(tdata) == 195"
   ]
  },
  {
   "cell_type": "code",
   "execution_count": 6,
   "metadata": {},
   "outputs": [
    {
     "name": "stdout",
     "output_type": "stream",
     "text": [
      "The first step during which all octopuses flash: 312\n"
     ]
    }
   ],
   "source": [
    "n = first_syncflash(data)\n",
    "print(f'The first step during which all octopuses flash: {n}')"
   ]
  }
 ],
 "metadata": {
  "interpreter": {
   "hash": "34bf0df1641f6a327048e3b88c696c92118af801ec77f897a0ad57ee3c48bebd"
  },
  "kernelspec": {
   "display_name": "Python 3.10.0 64-bit ('venv_py310': venv)",
   "language": "python",
   "name": "python3"
  },
  "language_info": {
   "codemirror_mode": {
    "name": "ipython",
    "version": 3
   },
   "file_extension": ".py",
   "mimetype": "text/x-python",
   "name": "python",
   "nbconvert_exporter": "python",
   "pygments_lexer": "ipython3",
   "version": "3.10.0"
  },
  "orig_nbformat": 4
 },
 "nbformat": 4,
 "nbformat_minor": 2
}
