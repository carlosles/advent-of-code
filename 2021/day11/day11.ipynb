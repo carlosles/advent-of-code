{
 "cells": [
  {
   "cell_type": "markdown",
   "metadata": {},
   "source": [
    "# Day 11: Dumbo Octopus"
   ]
  },
  {
   "cell_type": "code",
   "execution_count": 1,
   "metadata": {},
   "outputs": [],
   "source": [
    "from pathlib import Path\n",
    "from copy import deepcopy\n",
    "from itertools import product, dropwhile\n",
    "from more_itertools import flatten, quantify, take, first\n",
    "from functools import reduce, partial\n",
    "from typing import Iterable\n",
    "\n",
    "from aoc2021.util import read_as_list"
   ]
  },
  {
   "cell_type": "markdown",
   "metadata": {},
   "source": [
    "## Puzzle input data"
   ]
  },
  {
   "cell_type": "code",
   "execution_count": 2,
   "metadata": {},
   "outputs": [
    {
     "data": {
      "text/plain": [
       "[[4, 4, 3, 8, 6, 2, 4, 2, 6, 2],\n",
       " [6, 2, 6, 3, 2, 5, 1, 8, 6, 4],\n",
       " [2, 6, 1, 8, 8, 1, 2, 4, 3, 4],\n",
       " [2, 1, 3, 4, 2, 6, 4, 5, 6, 5],\n",
       " [1, 8, 1, 5, 1, 3, 1, 2, 4, 7],\n",
       " [2, 6, 1, 2, 4, 5, 7, 3, 2, 5],\n",
       " [8, 5, 8, 5, 7, 6, 7, 5, 8, 4],\n",
       " [7, 2, 1, 7, 1, 3, 4, 5, 5, 6],\n",
       " [2, 8, 2, 5, 4, 5, 6, 5, 6, 3],\n",
       " [8, 2, 4, 8, 4, 7, 3, 5, 8, 4]]"
      ]
     },
     "execution_count": 2,
     "metadata": {},
     "output_type": "execute_result"
    }
   ],
   "source": [
    "parse_input = lambda line: [int(c) for c in line.rstrip()]\n",
    "\n",
    "# Test data.\n",
    "tdata = list(map(parse_input, [\n",
    "    '5483143223',\n",
    "    '2745854711',\n",
    "    '5264556173',\n",
    "    '6141336146',\n",
    "    '6357385478',\n",
    "    '4167524645',\n",
    "    '2176841721',\n",
    "    '6882881134',\n",
    "    '4846848554',\n",
    "    '5283751526',\n",
    "]))\n",
    "\n",
    "# Input data.\n",
    "data = read_as_list(Path('./day11-input.txt'), func=parse_input)\n",
    "data"
   ]
  },
  {
   "cell_type": "markdown",
   "metadata": {},
   "source": [
    "## Puzzle answers\n",
    "### Part 1"
   ]
  },
  {
   "cell_type": "code",
   "execution_count": 3,
   "metadata": {},
   "outputs": [],
   "source": [
    "Input = list[list[int]]\n",
    "Pos = tuple[int,int]\n",
    "\n",
    "\n",
    "def neighbours(pos: Pos, sz: int = 10) -> list[Pos]:\n",
    "    \"\"\"TL, T, TR, L, R, BL, B, BR\"\"\"\n",
    "    drs = (-1,-1,-1,0,0,1,1,1)\n",
    "    dcs = (-1,0,1,-1,1,-1,0,1)\n",
    "    row,col = pos\n",
    "    return [(r,c) for r,c in ((row+dr,col+dc) for dr,dc in zip(drs,dcs)) if 0<=r<sz and 0<=c<sz]\n",
    "\n",
    "\n",
    "def update(energy: Input, pos: Pos) -> Input:\n",
    "    r, c = pos\n",
    "    energy[r][c] += 1\n",
    "    return energy\n",
    "\n",
    "\n",
    "def flash(energy: Input, pos: Pos) -> Input:\n",
    "    r, c = pos\n",
    "    energy[r][c] = 0\n",
    "    return energy\n",
    "\n",
    "\n",
    "def step(energy: Input) -> Iterable[Input]:\n",
    "    e = deepcopy(energy)\n",
    "    sz = len(e)\n",
    "    neighbs = partial(neighbours, sz=sz)\n",
    "    coords = list(product(range(sz), repeat=2))\n",
    "    while True:\n",
    "        to_update = coords\n",
    "        flashed = set()\n",
    "        while to_update:\n",
    "            e = reduce(update, to_update, e)\n",
    "            to_flash = [(r,c) for r,c in set(to_update) - flashed if e[r][c] > 9]\n",
    "            to_update = [p for p in flatten(map(neighbs, to_flash)) if p not in flashed]\n",
    "            flashed = flashed.union(to_flash)\n",
    "        e = reduce(flash, flashed, e)\n",
    "        yield deepcopy(e)\n",
    "\n",
    "\n",
    "def nflashes(energy: Input) -> int:\n",
    "    return quantify(flatten(energy), lambda x: x == 0)\n",
    "\n",
    "\n",
    "def num_flashes_after(energy: Input, nsteps: int) -> int:\n",
    "    return sum(map(nflashes, take(nsteps, step(energy))))\n",
    "\n",
    "\n",
    "assert neighbours((0,0), 10) == [(0,1), (1,0), (1,1)]\n",
    "assert neighbours((9,9), 10) == [(8,8), (8,9), (9,8)]\n",
    "assert next(step([[1,2,3],[4,5,6],[7,8,9]])) == [[2,3,4],[6,8,9],[9,0,0]]\n",
    "assert nflashes([[2,3,4],[6,8,9],[9,0,0]]) == 2\n",
    "assert num_flashes_after(tdata, 10) == 204\n",
    "assert num_flashes_after(tdata, 100) == 1656"
   ]
  },
  {
   "cell_type": "code",
   "execution_count": 4,
   "metadata": {},
   "outputs": [
    {
     "name": "stdout",
     "output_type": "stream",
     "text": [
      "Total number of flashes after 100 steps: 1640\n"
     ]
    }
   ],
   "source": [
    "n = num_flashes_after(data, 100)\n",
    "print(f'Total number of flashes after 100 steps: {n}')"
   ]
  },
  {
   "cell_type": "markdown",
   "metadata": {},
   "source": [
    "### Part 2"
   ]
  },
  {
   "cell_type": "code",
   "execution_count": 5,
   "metadata": {},
   "outputs": [],
   "source": [
    "def first_syncflash(energy: Input) -> int:\n",
    "    target = len(energy) ** 2\n",
    "    i,_ = first(dropwhile(lambda p: p[1] < target, enumerate(map(nflashes, step(tdata)), start=1)))\n",
    "    return i\n",
    "\n",
    "\n",
    "assert first_syncflash(tdata) == 195"
   ]
  },
  {
   "cell_type": "code",
   "execution_count": 6,
   "metadata": {},
   "outputs": [
    {
     "name": "stdout",
     "output_type": "stream",
     "text": [
      "The first step during which all octopuses flash: 195\n"
     ]
    }
   ],
   "source": [
    "n = first_syncflash(data)\n",
    "print(f'The first step during which all octopuses flash: {n}')"
   ]
  }
 ],
 "metadata": {
  "interpreter": {
   "hash": "34bf0df1641f6a327048e3b88c696c92118af801ec77f897a0ad57ee3c48bebd"
  },
  "kernelspec": {
   "display_name": "Python 3.10.0 64-bit ('venv_py310': venv)",
   "language": "python",
   "name": "python3"
  },
  "language_info": {
   "codemirror_mode": {
    "name": "ipython",
    "version": 3
   },
   "file_extension": ".py",
   "mimetype": "text/x-python",
   "name": "python",
   "nbconvert_exporter": "python",
   "pygments_lexer": "ipython3",
   "version": "3.10.0"
  },
  "orig_nbformat": 4
 },
 "nbformat": 4,
 "nbformat_minor": 2
}
