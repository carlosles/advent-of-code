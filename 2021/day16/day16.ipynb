{
 "cells": [
  {
   "cell_type": "markdown",
   "metadata": {},
   "source": [
    "# Day 16: Packet Decoder"
   ]
  },
  {
   "cell_type": "code",
   "execution_count": 1,
   "metadata": {},
   "outputs": [],
   "source": [
    "from pathlib import Path\n",
    "from dataclasses import dataclass\n",
    "from more_itertools import take, collapse\n",
    "from math import prod\n",
    "from typing import Iterable\n",
    "\n",
    "from aoc2021.util import read_as_str, bin2dec, hex2bin"
   ]
  },
  {
   "cell_type": "markdown",
   "metadata": {},
   "source": [
    "## Puzzle input data"
   ]
  },
  {
   "cell_type": "code",
   "execution_count": 2,
   "metadata": {},
   "outputs": [
    {
     "data": {
      "text/plain": [
       "'005473C9244483004B001F79A9CE75FF9065446725685F1223600542661B7A9F4D001428C01D8C30C61210021F0663043A20042616C75868800BAC9CB59F4BC3A40232680220008542D89B114401886F1EA2DCF16CFE3BE6281060104B00C9994B83C13200AD3C0169B85FA7D3BE0A91356004824A32E6C94803A1D005E6701B2B49D76A1257EC7310C2015E7C0151006E0843F8D000086C4284910A47518CF7DD04380553C2F2D4BFEE67350DE2C9331FEFAFAD24CB282004F328C73F4E8B49C34AF094802B2B004E76762F9D9D8BA500653EEA4016CD802126B72D8F004C5F9975200C924B5065C00686467E58919F960C017F00466BB3B6B4B135D9DB5A5A93C2210050B32A9400A9497D524BEA660084EEA8EF600849E21EFB7C9F07E5C34C014C009067794BCC527794BCC424F12A67DCBC905C01B97BF8DE5ED9F7C865A4051F50024F9B9EAFA93ECE1A49A2C2E20128E4CA30037100042612C6F8B600084C1C8850BC400B8DAA01547197D6370BC8422C4A72051291E2A0803B0E2094D4BB5FDBEF6A0094F3CCC9A0002FD38E1350E7500C01A1006E3CC24884200C46389312C401F8551C63D4CC9D08035293FD6FCAFF1468B0056780A45D0C01498FBED0039925B82CCDCA7F4E20021A692CC012B00440010B8691761E0002190E21244C98EE0B0C0139297660B401A80002150E20A43C1006A0E44582A400C04A81CD994B9A1004BB1625D0648CE440E49DC402D8612BB6C9F5E97A5AC193F589A100505800ABCF5205138BD2EB527EA130008611167331AEA9B8BDCC4752B78165B39DAA1004C906740139EB0148D3CEC80662B801E60041015EE6006801364E007B801C003F1A801880350100BEC002A3000920E0079801CA00500046A800C0A001A73DFE9830059D29B5E8A51865777DCA1A2820040E4C7A49F88028B9F92DF80292E592B6B840'"
      ]
     },
     "execution_count": 2,
     "metadata": {},
     "output_type": "execute_result"
    }
   ],
   "source": [
    "# Test data.\n",
    "tdata = '8A004A801A8002F478'\n",
    "\n",
    "# Input data.\n",
    "data = read_as_str(Path('./day16-input.txt'))\n",
    "data"
   ]
  },
  {
   "cell_type": "markdown",
   "metadata": {},
   "source": [
    "## Puzzle answers\n",
    "### Part 1"
   ]
  },
  {
   "cell_type": "code",
   "execution_count": 3,
   "metadata": {},
   "outputs": [],
   "source": [
    "Input = str\n",
    "\n",
    "\n",
    "@dataclass(frozen=True)\n",
    "class Packet:\n",
    "    version: int\n",
    "    typeid: int\n",
    "\n",
    "\n",
    "@dataclass(frozen=True)\n",
    "class Literal(Packet):\n",
    "    value: int\n",
    "    nbits: int\n",
    "\n",
    "\n",
    "@dataclass(frozen=True)\n",
    "class Operator(Packet):\n",
    "    length_typeid: str\n",
    "    packets: list[Packet]\n",
    "\n",
    "    @property\n",
    "    def nbits(self):\n",
    "        n = 7 + (15 if self.length_typeid == '0' else 11)\n",
    "        return n + sum(p.nbits for p in self.packets)\n",
    "\n",
    "    @property\n",
    "    def value(self):\n",
    "        match self.typeid:\n",
    "            case 0: return sum(p.value for p in self.packets)\n",
    "            case 1: return prod(p.value for p in self.packets)\n",
    "            case 2: return min(p.value for p in self.packets)\n",
    "            case 3: return max(p.value for p in self.packets)\n",
    "            case 5: return 1 if self.packets[0].value > self.packets[1].value else 0\n",
    "            case 6: return 1 if self.packets[0].value < self.packets[1].value else 0\n",
    "            case 7: return 1 if self.packets[0].value == self.packets[1].value else 0\n",
    "            case _: raise Exception(f'invalid typeid {self.typeid}')\n",
    "\n",
    "\n",
    "def parse_version(bs: Iterable[str]) -> int:\n",
    "    return bin2dec(''.join(take(3, bs)))\n",
    "\n",
    "\n",
    "def parse_typeid(bs: Iterable[str]) -> int:\n",
    "    return bin2dec(''.join(take(3, bs)))\n",
    "\n",
    "\n",
    "def parse_literal(bs: Iterable[str]) -> tuple[int,int]:\n",
    "    value = []\n",
    "    n = 0\n",
    "    while True:\n",
    "        prefix = next(bs)\n",
    "        value.extend(take(4, bs))\n",
    "        n += 5\n",
    "        if prefix == '0':\n",
    "            return bin2dec(''.join(value)), n\n",
    "\n",
    "\n",
    "def parse_packet(bs: Iterable[str]) -> Packet:\n",
    "    ver = parse_version(bs)\n",
    "    tid = parse_typeid(bs)\n",
    "    if tid == 4:\n",
    "        val, n = parse_literal(bs)\n",
    "        return Literal(version=ver, typeid=tid, value=val, nbits=n+6)\n",
    "    else:\n",
    "        length_tid = next(bs)\n",
    "        subpackets = []\n",
    "        if length_tid == '0':\n",
    "            nbits_to_read = bin2dec(''.join(take(15, bs)))\n",
    "            while nbits_to_read > 0:\n",
    "                subpackets.append(parse_packet(bs))\n",
    "                nbits_to_read -= subpackets[-1].nbits\n",
    "        else:\n",
    "            packets_to_read = bin2dec(''.join(take(11, bs)))\n",
    "            for _ in range(packets_to_read):\n",
    "                subpackets.append(parse_packet(bs))\n",
    "        return Operator(version=ver, typeid=tid, length_typeid=length_tid, packets=subpackets)\n",
    "\n",
    "\n",
    "def parse_transmission(data: Input) -> Literal | Operator:\n",
    "    return parse_packet(iter(hex2bin(data, chunksize=4)))\n",
    "\n",
    "\n",
    "def version_numbers(packet: Packet) -> list[int]:\n",
    "    if packet.typeid == 4:\n",
    "        return [packet.version]\n",
    "    else:\n",
    "        return list(collapse([packet.version] + [version_numbers(p) for p in packet.packets]))\n",
    "\n",
    "\n",
    "assert hex2bin('D2FE28', chunksize=4) == '110100101111111000101000'\n",
    "assert hex2bin('38006F45291200', chunksize=4) == '00111000000000000110111101000101001010010001001000000000'\n",
    "assert hex2bin('EE00D40C823060', chunksize=4) == '11101110000000001101010000001100100000100011000001100000'\n",
    "assert sum(version_numbers(parse_transmission(tdata))) == 16\n",
    "assert sum(version_numbers(parse_transmission('38006F45291200'))) == 1+6+2\n",
    "assert sum(version_numbers(parse_transmission('EE00D40C823060'))) == 7+2+4+1\n",
    "assert sum(version_numbers(parse_transmission('620080001611562C8802118E34'))) == 12\n",
    "assert sum(version_numbers(parse_transmission('C0015000016115A2E0802F182340'))) == 23\n",
    "assert sum(version_numbers(parse_transmission('A0016C880162017C3686B18A3D4780'))) == 31"
   ]
  },
  {
   "cell_type": "code",
   "execution_count": 4,
   "metadata": {},
   "outputs": [
    {
     "name": "stdout",
     "output_type": "stream",
     "text": [
      "Adding up the version numbers in all packets of the transmission: 847\n"
     ]
    }
   ],
   "source": [
    "n = sum(version_numbers(parse_transmission(data)))\n",
    "print(f'Adding up the version numbers in all packets of the transmission: {n}')"
   ]
  },
  {
   "cell_type": "markdown",
   "metadata": {},
   "source": [
    "### Part 2"
   ]
  },
  {
   "cell_type": "code",
   "execution_count": 5,
   "metadata": {},
   "outputs": [],
   "source": [
    "assert parse_transmission('C200B40A82').value == 3\n",
    "assert parse_transmission('04005AC33890').value == 54\n",
    "assert parse_transmission('880086C3E88112').value == 7\n",
    "assert parse_transmission('CE00C43D881120').value == 9\n",
    "assert parse_transmission('D8005AC2A8F0').value == 1\n",
    "assert parse_transmission('F600BC2D8F').value == 0\n",
    "assert parse_transmission('9C005AC2F8F0').value == 0\n",
    "assert parse_transmission('9C0141080250320F1802104A08').value == 1"
   ]
  },
  {
   "cell_type": "code",
   "execution_count": 6,
   "metadata": {},
   "outputs": [
    {
     "name": "stdout",
     "output_type": "stream",
     "text": [
      "Evaluating the hexadecimal-encoded BITS transmission expression: 333794664059\n"
     ]
    }
   ],
   "source": [
    "n = parse_transmission(data).value\n",
    "print(f'Evaluating the hexadecimal-encoded BITS transmission expression: {n}')"
   ]
  }
 ],
 "metadata": {
  "interpreter": {
   "hash": "34bf0df1641f6a327048e3b88c696c92118af801ec77f897a0ad57ee3c48bebd"
  },
  "kernelspec": {
   "display_name": "Python 3.10.0 64-bit ('venv_py310': venv)",
   "language": "python",
   "name": "python3"
  },
  "language_info": {
   "codemirror_mode": {
    "name": "ipython",
    "version": 3
   },
   "file_extension": ".py",
   "mimetype": "text/x-python",
   "name": "python",
   "nbconvert_exporter": "python",
   "pygments_lexer": "ipython3",
   "version": "3.10.0"
  },
  "orig_nbformat": 4
 },
 "nbformat": 4,
 "nbformat_minor": 2
}
