{
 "cells": [
  {
   "cell_type": "markdown",
   "metadata": {},
   "source": [
    "# Day 6: Lanternfish"
   ]
  },
  {
   "cell_type": "code",
   "execution_count": 1,
   "metadata": {},
   "outputs": [],
   "source": [
    "from pathlib import Path\n",
    "from itertools import chain\n",
    "from functools import lru_cache\n",
    "\n",
    "from aoc2021.util import read_as_list"
   ]
  },
  {
   "cell_type": "markdown",
   "metadata": {},
   "source": [
    "## Puzzle input data"
   ]
  },
  {
   "cell_type": "code",
   "execution_count": 2,
   "metadata": {},
   "outputs": [
    {
     "data": {
      "text/plain": [
       "[4, 1, 1, 1, 5]"
      ]
     },
     "execution_count": 2,
     "metadata": {},
     "output_type": "execute_result"
    }
   ],
   "source": [
    "# Test data.\n",
    "tdata = [3,4,3,1,2]\n",
    "\n",
    "# Input data.\n",
    "data = read_as_list(Path('./day06.txt'), func=lambda x: list(map(int, x.split(sep=','))))[0]\n",
    "data[:5]"
   ]
  },
  {
   "cell_type": "markdown",
   "metadata": {},
   "source": [
    "## Puzzle answers\n",
    "### Part 1"
   ]
  },
  {
   "cell_type": "code",
   "execution_count": 3,
   "metadata": {},
   "outputs": [],
   "source": [
    "def update(fish: int) -> list[int]:\n",
    "    match fish:\n",
    "        case 0: return [6, 8]\n",
    "        case _: return [fish-1]\n",
    "\n",
    "\n",
    "def lanternfish_after(fishes: list[int], days: int) -> int:\n",
    "    for _ in range(days):\n",
    "        fishes = list(chain.from_iterable(update(f) for f in fishes))\n",
    "    return fishes\n",
    "\n",
    "\n",
    "assert len(lanternfish_after(tdata, days=18)) == 26\n",
    "assert len(lanternfish_after(tdata, days=80)) == 5934"
   ]
  },
  {
   "cell_type": "code",
   "execution_count": 4,
   "metadata": {},
   "outputs": [
    {
     "name": "stdout",
     "output_type": "stream",
     "text": [
      "Number of lanternfish there would be after 80 days: 352195\n"
     ]
    }
   ],
   "source": [
    "n = len(lanternfish_after(data, days=80))\n",
    "print(f'Number of lanternfish there would be after 80 days: {n}')"
   ]
  },
  {
   "cell_type": "markdown",
   "metadata": {},
   "source": [
    "### Part 2"
   ]
  },
  {
   "cell_type": "code",
   "execution_count": 5,
   "metadata": {},
   "outputs": [],
   "source": [
    "@lru_cache(maxsize=None)\n",
    "def num_births_due(day: int) -> int:\n",
    "    if day in {0, 7, 9}:\n",
    "        return 1\n",
    "    if day < 10:\n",
    "        return 0\n",
    "    return num_births_due(day-7) + num_births_due(day-9)\n",
    "\n",
    "\n",
    "@lru_cache(maxsize=None)\n",
    "def population_size(day: int) -> int:\n",
    "    if day == 0:\n",
    "        return 1\n",
    "    return num_births_due(day-1) + population_size(day-1)\n",
    "\n",
    "\n",
    "def num_lanternfish_after(fishes: list[int], days: int) -> int:\n",
    "    return sum(population_size(days-f) for f in fishes)\n",
    "\n",
    "\n",
    "assert all(num_births_due(d) == len(lanternfish_after([0], d+1)) - len(lanternfish_after([0], d)) for d in range(20))\n",
    "assert all(population_size(d) == len(lanternfish_after([0], d)) for d in range(20))\n",
    "assert num_lanternfish_after(tdata, days=80) == 5934\n",
    "assert num_lanternfish_after(tdata, days=256) == 26984457539"
   ]
  },
  {
   "cell_type": "code",
   "execution_count": 6,
   "metadata": {},
   "outputs": [
    {
     "name": "stdout",
     "output_type": "stream",
     "text": [
      "Number of lanternfish there would be after 80 days: 1600306001288\n"
     ]
    }
   ],
   "source": [
    "n = num_lanternfish_after(data, days=256)\n",
    "print(f'Number of lanternfish there would be after 80 days: {n}')"
   ]
  }
 ],
 "metadata": {
  "interpreter": {
   "hash": "34bf0df1641f6a327048e3b88c696c92118af801ec77f897a0ad57ee3c48bebd"
  },
  "kernelspec": {
   "display_name": "Python 3.10.0 64-bit ('venv_py310': venv)",
   "language": "python",
   "name": "python3"
  },
  "language_info": {
   "codemirror_mode": {
    "name": "ipython",
    "version": 3
   },
   "file_extension": ".py",
   "mimetype": "text/x-python",
   "name": "python",
   "nbconvert_exporter": "python",
   "pygments_lexer": "ipython3",
   "version": "3.10.0"
  },
  "orig_nbformat": 4
 },
 "nbformat": 4,
 "nbformat_minor": 2
}
