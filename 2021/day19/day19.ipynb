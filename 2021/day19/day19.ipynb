{
 "cells": [
  {
   "cell_type": "markdown",
   "metadata": {},
   "source": [
    "# Day 19: Beacon Scanner"
   ]
  },
  {
   "cell_type": "code",
   "execution_count": 118,
   "metadata": {},
   "outputs": [],
   "source": [
    "from pathlib import Path\n",
    "from collections import Counter\n",
    "from more_itertools import split_at\n",
    "from scipy.spatial.transform import Rotation as R\n",
    "\n",
    "from aoc2021.util import read_as_list"
   ]
  },
  {
   "cell_type": "code",
   "execution_count": 112,
   "metadata": {},
   "outputs": [
    {
     "data": {
      "text/plain": [
       "array([0.        , 0.        , 0.70710678, 0.70710678])"
      ]
     },
     "execution_count": 112,
     "metadata": {},
     "output_type": "execute_result"
    }
   ],
   "source": [
    "R.from_euler('xyz', [0,0,90], degrees=True).as_quat()"
   ]
  },
  {
   "cell_type": "code",
   "execution_count": 133,
   "metadata": {},
   "outputs": [
    {
     "name": "stderr",
     "output_type": "stream",
     "text": [
      "/var/folders/sq/3b3g05kx4dj6y7z3qkvcbxv00000gn/T/ipykernel_756/1346327016.py:31: UserWarning: Gimbal lock detected. Setting third angle to zero since it is not possible to uniquely determine all angles.\n",
      "  [R.from_quat(o).as_euler('xyz', degrees=True) for o in orientations]\n"
     ]
    },
    {
     "data": {
      "text/plain": [
       "Counter({(1.0, -2.0, -3.0): 1,\n",
       "         (-1.0, 2.0, -3.0): 1,\n",
       "         (-1.0, -2.0, 3.0): 1,\n",
       "         (1.0, -3.0, 2.0): 1,\n",
       "         (3.0, 2.0, -1.0): 1,\n",
       "         (-2.0, 1.0, 3.0): 1,\n",
       "         (1.0, 3.0, -2.0): 1,\n",
       "         (-3.0, 2.0, 1.0): 1,\n",
       "         (2.0, -1.0, 3.0): 1,\n",
       "         (3.0, 1.0, 2.0): 1,\n",
       "         (-2.0, 3.0, -1.0): 1,\n",
       "         (-2.0, -3.0, 1.0): 1,\n",
       "         (2.0, -3.0, -1.0): 1,\n",
       "         (-2.0, -1.0, -3.0): 1,\n",
       "         (-3.0, -2.0, -1.0): 1,\n",
       "         (-1.0, -3.0, -2.0): 2,\n",
       "         (-3.0, -1.0, 2.0): 1,\n",
       "         (3.0, -1.0, -2.0): 1,\n",
       "         (-3.0, 1.0, -2.0): 1,\n",
       "         (2.0, 1.0, -3.0): 1,\n",
       "         (3.0, -2.0, 1.0): 1,\n",
       "         (-1.0, 3.0, 2.0): 1,\n",
       "         (3.0, 2.0, 1.0): 1,\n",
       "         (4.0, -1.0, -0.0): 1,\n",
       "         (1.0, -2.0, 3.0): 1,\n",
       "         (0.0, 3.0, 2.0): 1})"
      ]
     },
     "execution_count": 133,
     "metadata": {},
     "output_type": "execute_result"
    }
   ],
   "source": [
    "orientations = [\n",
    "    #[0,0,0,0],  # +x +y +z\n",
    "    [1,0,0,0],  # +x -y -z\n",
    "    [0,1,0,0],  # -x +y -z\n",
    "    [0,0,1,0],  # -x -y +z\n",
    "    [1,0,0,1],  # +x -z +y\n",
    "    [0,1,0,1],  # +z +y -x\n",
    "    [0,0,1,1],  # -y +x +z\n",
    "    [1,0,0,-1], # +x +z -y\n",
    "    [0,1,0,-1], # -z +y +x\n",
    "    [0,0,1,-1], # +y -x +z\n",
    "    [1,1,1,1],  # +z +x +y\n",
    "    [-1,1,1,1],\n",
    "    [1,-1,1,1],\n",
    "    [1,1,-1,1], # \n",
    "    [-1,1,0,0],\n",
    "    [-1,0,1,0],\n",
    "    [0,1,-1,0],\n",
    "    [0,-1,1,0],\n",
    "    [-1,1,1,-1],\n",
    "    [1,-1,1,-1],\n",
    "    [1,1,-1,-1],\n",
    "    [1,1,0,0],\n",
    "    [1,0,1,0],\n",
    "    [0,1,1,0],\n",
    "    [1,1,1,0],\n",
    "    [1,1,0,1],\n",
    "    [1,0,1,1],\n",
    "    [0,1,1,1],\n",
    "]\n",
    "[R.from_quat(o).as_euler('xyz', degrees=True) for o in orientations]\n",
    "[R.from_quat(o).apply([1,1,1]) for o in orientations]\n",
    "Counter(tuple(R.from_quat(o).apply([1,2,3]).round()) for o in orientations)\n",
    "#len(orientations)"
   ]
  },
  {
   "cell_type": "markdown",
   "metadata": {},
   "source": [
    "## Puzzle input data"
   ]
  },
  {
   "cell_type": "code",
   "execution_count": 17,
   "metadata": {},
   "outputs": [
    {
     "data": {
      "text/plain": [
       "[[(497, -409, -534),\n",
       "  (-367, 419, -378),\n",
       "  (42, 122, 52),\n",
       "  (-639, -583, -417),\n",
       "  (-698, -415, 664)],\n",
       " [(488, 862, 771),\n",
       "  (-451, -609, 647),\n",
       "  (-8, 100, -127),\n",
       "  (823, -683, -416),\n",
       "  (-594, -600, 748)]]"
      ]
     },
     "execution_count": 17,
     "metadata": {},
     "output_type": "execute_result"
    }
   ],
   "source": [
    "def parse_input(lines: list[str]) -> list[list[tuple[int]]]:\n",
    "    blocks = split_at(lines, lambda s: not s)\n",
    "    return [[tuple(map(int, l.split(','))) for l in b[1:]] for b in blocks]\n",
    "\n",
    "# Test data.\n",
    "tdata = read_as_list(Path('./day19-test-input.txt'), func=str.rstrip)\n",
    "\n",
    "# Input data.\n",
    "data = parse_input(read_as_list(Path('./day19-input.txt'), func=str.rstrip))\n",
    "list(d[:5] for d in data[:2])"
   ]
  },
  {
   "cell_type": "markdown",
   "metadata": {},
   "source": [
    "## Puzzle answers\n",
    "### Part 1"
   ]
  },
  {
   "cell_type": "code",
   "execution_count": null,
   "metadata": {},
   "outputs": [],
   "source": [
    "Beacon = tuple[int]\n",
    "Scanner = list[Beacon]\n",
    "Input = list[Scanner]\n",
    "\n",
    "\n",
    "def beacons(data: Input):\n",
    "    pass\n",
    "\n",
    "\n",
    "assert len(beacons(tdata)) == 79"
   ]
  },
  {
   "cell_type": "code",
   "execution_count": null,
   "metadata": {},
   "outputs": [],
   "source": [
    "n = len(beacons(data))\n",
    "print(f'Number of beacons: {n}')"
   ]
  },
  {
   "cell_type": "markdown",
   "metadata": {},
   "source": [
    "### Part 2"
   ]
  },
  {
   "cell_type": "code",
   "execution_count": null,
   "metadata": {},
   "outputs": [],
   "source": []
  },
  {
   "cell_type": "code",
   "execution_count": null,
   "metadata": {},
   "outputs": [],
   "source": []
  }
 ],
 "metadata": {
  "interpreter": {
   "hash": "34bf0df1641f6a327048e3b88c696c92118af801ec77f897a0ad57ee3c48bebd"
  },
  "kernelspec": {
   "display_name": "Python 3.10.0 64-bit ('venv_py310': venv)",
   "language": "python",
   "name": "python3"
  },
  "language_info": {
   "codemirror_mode": {
    "name": "ipython",
    "version": 3
   },
   "file_extension": ".py",
   "mimetype": "text/x-python",
   "name": "python",
   "nbconvert_exporter": "python",
   "pygments_lexer": "ipython3",
   "version": "3.10.0"
  },
  "orig_nbformat": 4
 },
 "nbformat": 4,
 "nbformat_minor": 2
}
