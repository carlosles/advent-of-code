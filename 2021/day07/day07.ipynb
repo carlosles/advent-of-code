{
 "cells": [
  {
   "cell_type": "markdown",
   "metadata": {},
   "source": [
    "# Day 7: The Treachery of Whales"
   ]
  },
  {
   "cell_type": "code",
   "execution_count": 1,
   "metadata": {},
   "outputs": [],
   "source": [
    "from pathlib import Path\n",
    "\n",
    "from aoc2021.util import read_as_list"
   ]
  },
  {
   "cell_type": "markdown",
   "metadata": {},
   "source": [
    "## Puzzle input data"
   ]
  },
  {
   "cell_type": "code",
   "execution_count": 2,
   "metadata": {},
   "outputs": [
    {
     "data": {
      "text/plain": [
       "[1101, 1, 29, 67, 1102]"
      ]
     },
     "execution_count": 2,
     "metadata": {},
     "output_type": "execute_result"
    }
   ],
   "source": [
    "# Test data.\n",
    "tdata = [16,1,2,0,4,2,7,1,2,14]\n",
    "\n",
    "# Input data.\n",
    "data = read_as_list(Path('./day07.txt'), func=lambda x: list(map(int, x.split(sep=','))))[0]\n",
    "data[:5]"
   ]
  },
  {
   "cell_type": "markdown",
   "metadata": {},
   "source": [
    "## Puzzle answers\n",
    "### Part 1"
   ]
  },
  {
   "cell_type": "code",
   "execution_count": 3,
   "metadata": {},
   "outputs": [],
   "source": [
    "def required_fuel(positions: list[int], pos: int) -> int:\n",
    "    return sum(abs(p-pos) for p in positions)\n",
    "\n",
    "\n",
    "def cheapest_pos(positions: list[int]) -> int:\n",
    "    allpositions = range(0, max(positions)+1)\n",
    "    fuels = [required_fuel(positions, p) for p in allpositions]\n",
    "    return allpositions[fuels.index(min(fuels))]\n",
    "\n",
    "\n",
    "def least_fuel(data: list[int]) -> int:\n",
    "    return required_fuel(data, cheapest_pos(data))\n",
    "\n",
    "\n",
    "assert required_fuel(tdata, 1) == 41\n",
    "assert required_fuel(tdata, 2) == 37\n",
    "assert required_fuel(tdata, 3) == 39\n",
    "assert required_fuel(tdata, 10) == 71\n",
    "assert cheapest_pos(tdata) == 2\n",
    "assert least_fuel(tdata) == 37"
   ]
  },
  {
   "cell_type": "code",
   "execution_count": 4,
   "metadata": {},
   "outputs": [
    {
     "name": "stdout",
     "output_type": "stream",
     "text": [
      "The least amount of fuel required to align crabs: 349357\n"
     ]
    }
   ],
   "source": [
    "n = least_fuel(data)\n",
    "print(f'The least amount of fuel required to align crabs: {n}')"
   ]
  },
  {
   "cell_type": "markdown",
   "metadata": {},
   "source": [
    "### Part 2"
   ]
  },
  {
   "cell_type": "code",
   "execution_count": 5,
   "metadata": {},
   "outputs": [],
   "source": [
    "def naturals_sum(n) -> int:\n",
    "    return n * (n+1) // 2\n",
    "\n",
    "\n",
    "def required_fuel(positions: list[int], pos: int) -> int:\n",
    "    return sum(naturals_sum(abs(p-pos)) for p in positions)\n",
    "\n",
    "\n",
    "def cheapest_pos(positions: list[int]) -> int:\n",
    "    allpositions = range(0, max(positions)+1)\n",
    "    fuels = [required_fuel(positions, p) for p in allpositions]\n",
    "    return allpositions[fuels.index(min(fuels))]\n",
    "\n",
    "\n",
    "def least_fuel(data: list[int]) -> int:\n",
    "    return required_fuel(data, cheapest_pos(data))\n",
    "\n",
    "\n",
    "assert required_fuel(tdata, 2) == 206\n",
    "assert required_fuel(tdata, 5) == 168\n",
    "assert cheapest_pos(tdata) == 5\n",
    "assert least_fuel(tdata) == 168"
   ]
  },
  {
   "cell_type": "code",
   "execution_count": 6,
   "metadata": {},
   "outputs": [
    {
     "name": "stdout",
     "output_type": "stream",
     "text": [
      "The least amount of fuel required to align crabs: 96708205\n"
     ]
    }
   ],
   "source": [
    "n = least_fuel(data)\n",
    "print(f'The least amount of fuel required to align crabs: {n}')"
   ]
  }
 ],
 "metadata": {
  "interpreter": {
   "hash": "34bf0df1641f6a327048e3b88c696c92118af801ec77f897a0ad57ee3c48bebd"
  },
  "kernelspec": {
   "display_name": "Python 3.10.0 64-bit ('venv_py310': venv)",
   "language": "python",
   "name": "python3"
  },
  "language_info": {
   "codemirror_mode": {
    "name": "ipython",
    "version": 3
   },
   "file_extension": ".py",
   "mimetype": "text/x-python",
   "name": "python",
   "nbconvert_exporter": "python",
   "pygments_lexer": "ipython3",
   "version": "3.10.0"
  },
  "orig_nbformat": 4
 },
 "nbformat": 4,
 "nbformat_minor": 2
}
